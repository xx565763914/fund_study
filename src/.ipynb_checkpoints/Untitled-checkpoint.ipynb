{
 "cells": [
  {
   "cell_type": "code",
   "execution_count": 1,
   "metadata": {},
   "outputs": [
    {
     "name": "stderr",
     "output_type": "stream",
     "text": [
      "D:\\program_files\\anaconda_3_5\\lib\\site-packages\\requests\\__init__.py:91: RequestsDependencyWarning: urllib3 (1.26.2) or chardet (3.0.4) doesn't match a supported version!\n",
      "  RequestsDependencyWarning)\n"
     ]
    }
   ],
   "source": [
    "from common import *"
   ]
  },
  {
   "cell_type": "code",
   "execution_count": 2,
   "metadata": {},
   "outputs": [],
   "source": [
    "from pandas_datareader import data,wb"
   ]
  },
  {
   "cell_type": "code",
   "execution_count": 3,
   "metadata": {},
   "outputs": [],
   "source": [
    "guozhai = pd.read_csv('../data/000012.csv', encoding='gbk')\n",
    "hs300 = pd.read_csv('../data/000300.csv', encoding='gbk')"
   ]
  },
  {
   "cell_type": "code",
   "execution_count": 4,
   "metadata": {},
   "outputs": [
    {
     "data": {
      "text/html": [
       "<div>\n",
       "<style scoped>\n",
       "    .dataframe tbody tr th:only-of-type {\n",
       "        vertical-align: middle;\n",
       "    }\n",
       "\n",
       "    .dataframe tbody tr th {\n",
       "        vertical-align: top;\n",
       "    }\n",
       "\n",
       "    .dataframe thead th {\n",
       "        text-align: right;\n",
       "    }\n",
       "</style>\n",
       "<table border=\"1\" class=\"dataframe\">\n",
       "  <thead>\n",
       "    <tr style=\"text-align: right;\">\n",
       "      <th></th>\n",
       "      <th>日期</th>\n",
       "      <th>股票代码</th>\n",
       "      <th>名称</th>\n",
       "      <th>收盘价</th>\n",
       "      <th>最高价</th>\n",
       "      <th>最低价</th>\n",
       "      <th>开盘价</th>\n",
       "      <th>前收盘</th>\n",
       "      <th>涨跌额</th>\n",
       "      <th>涨跌幅</th>\n",
       "      <th>成交量</th>\n",
       "      <th>成交金额</th>\n",
       "    </tr>\n",
       "  </thead>\n",
       "  <tbody>\n",
       "    <tr>\n",
       "      <th>0</th>\n",
       "      <td>2021-01-15</td>\n",
       "      <td>'000012</td>\n",
       "      <td>国债指数</td>\n",
       "      <td>184.2401</td>\n",
       "      <td>184.2668</td>\n",
       "      <td>184.2232</td>\n",
       "      <td>184.2408</td>\n",
       "      <td>184.2246</td>\n",
       "      <td>0.0155</td>\n",
       "      <td>0.0084</td>\n",
       "      <td>127760</td>\n",
       "      <td>121224658.0</td>\n",
       "    </tr>\n",
       "    <tr>\n",
       "      <th>1</th>\n",
       "      <td>2021-01-14</td>\n",
       "      <td>'000012</td>\n",
       "      <td>国债指数</td>\n",
       "      <td>184.2246</td>\n",
       "      <td>184.2980</td>\n",
       "      <td>184.2079</td>\n",
       "      <td>184.2587</td>\n",
       "      <td>184.2425</td>\n",
       "      <td>-0.0179</td>\n",
       "      <td>-0.0097</td>\n",
       "      <td>277528</td>\n",
       "      <td>263245602.0</td>\n",
       "    </tr>\n",
       "  </tbody>\n",
       "</table>\n",
       "</div>"
      ],
      "text/plain": [
       "           日期     股票代码    名称       收盘价       最高价       最低价       开盘价  \\\n",
       "0  2021-01-15  '000012  国债指数  184.2401  184.2668  184.2232  184.2408   \n",
       "1  2021-01-14  '000012  国债指数  184.2246  184.2980  184.2079  184.2587   \n",
       "\n",
       "        前收盘     涨跌额     涨跌幅     成交量         成交金额  \n",
       "0  184.2246  0.0155  0.0084  127760  121224658.0  \n",
       "1  184.2425 -0.0179 -0.0097  277528  263245602.0  "
      ]
     },
     "execution_count": 4,
     "metadata": {},
     "output_type": "execute_result"
    }
   ],
   "source": [
    "guozhai.head(2)"
   ]
  },
  {
   "cell_type": "code",
   "execution_count": 5,
   "metadata": {},
   "outputs": [
    {
     "data": {
      "text/html": [
       "<div>\n",
       "<style scoped>\n",
       "    .dataframe tbody tr th:only-of-type {\n",
       "        vertical-align: middle;\n",
       "    }\n",
       "\n",
       "    .dataframe tbody tr th {\n",
       "        vertical-align: top;\n",
       "    }\n",
       "\n",
       "    .dataframe thead th {\n",
       "        text-align: right;\n",
       "    }\n",
       "</style>\n",
       "<table border=\"1\" class=\"dataframe\">\n",
       "  <thead>\n",
       "    <tr style=\"text-align: right;\">\n",
       "      <th></th>\n",
       "      <th>日期</th>\n",
       "      <th>股票代码</th>\n",
       "      <th>名称</th>\n",
       "      <th>收盘价</th>\n",
       "      <th>最高价</th>\n",
       "      <th>最低价</th>\n",
       "      <th>开盘价</th>\n",
       "      <th>前收盘</th>\n",
       "      <th>涨跌额</th>\n",
       "      <th>涨跌幅</th>\n",
       "      <th>成交量</th>\n",
       "      <th>成交金额</th>\n",
       "    </tr>\n",
       "  </thead>\n",
       "  <tbody>\n",
       "    <tr>\n",
       "      <th>0</th>\n",
       "      <td>2021-01-15</td>\n",
       "      <td>'000300</td>\n",
       "      <td>沪深300</td>\n",
       "      <td>5458.0812</td>\n",
       "      <td>5500.6348</td>\n",
       "      <td>5390.2737</td>\n",
       "      <td>5471.3910</td>\n",
       "      <td>5470.4563</td>\n",
       "      <td>-12.3751</td>\n",
       "      <td>-0.2262</td>\n",
       "      <td>238637435</td>\n",
       "      <td>4.757099e+11</td>\n",
       "    </tr>\n",
       "    <tr>\n",
       "      <th>1</th>\n",
       "      <td>2021-01-14</td>\n",
       "      <td>'000300</td>\n",
       "      <td>沪深300</td>\n",
       "      <td>5470.4563</td>\n",
       "      <td>5568.0179</td>\n",
       "      <td>5458.6818</td>\n",
       "      <td>5556.2125</td>\n",
       "      <td>5577.9711</td>\n",
       "      <td>-107.5148</td>\n",
       "      <td>-1.9275</td>\n",
       "      <td>243683380</td>\n",
       "      <td>5.018901e+11</td>\n",
       "    </tr>\n",
       "  </tbody>\n",
       "</table>\n",
       "</div>"
      ],
      "text/plain": [
       "           日期     股票代码     名称        收盘价        最高价        最低价        开盘价  \\\n",
       "0  2021-01-15  '000300  沪深300  5458.0812  5500.6348  5390.2737  5471.3910   \n",
       "1  2021-01-14  '000300  沪深300  5470.4563  5568.0179  5458.6818  5556.2125   \n",
       "\n",
       "         前收盘        涨跌额      涨跌幅        成交量          成交金额  \n",
       "0  5470.4563   -12.3751  -0.2262  238637435  4.757099e+11  \n",
       "1  5577.9711  -107.5148  -1.9275  243683380  5.018901e+11  "
      ]
     },
     "execution_count": 5,
     "metadata": {},
     "output_type": "execute_result"
    }
   ],
   "source": [
    "hs300.head(2)"
   ]
  },
  {
   "cell_type": "code",
   "execution_count": 6,
   "metadata": {},
   "outputs": [],
   "source": [
    "sp500 = pd.read_csv('../data/美国标准普尔500指数历史数据.csv')"
   ]
  },
  {
   "cell_type": "code",
   "execution_count": 7,
   "metadata": {},
   "outputs": [
    {
     "data": {
      "text/html": [
       "<div>\n",
       "<style scoped>\n",
       "    .dataframe tbody tr th:only-of-type {\n",
       "        vertical-align: middle;\n",
       "    }\n",
       "\n",
       "    .dataframe tbody tr th {\n",
       "        vertical-align: top;\n",
       "    }\n",
       "\n",
       "    .dataframe thead th {\n",
       "        text-align: right;\n",
       "    }\n",
       "</style>\n",
       "<table border=\"1\" class=\"dataframe\">\n",
       "  <thead>\n",
       "    <tr style=\"text-align: right;\">\n",
       "      <th></th>\n",
       "      <th>日期</th>\n",
       "      <th>收盘</th>\n",
       "      <th>开盘</th>\n",
       "      <th>高</th>\n",
       "      <th>低</th>\n",
       "      <th>交易量</th>\n",
       "      <th>涨跌幅</th>\n",
       "    </tr>\n",
       "  </thead>\n",
       "  <tbody>\n",
       "    <tr>\n",
       "      <th>0</th>\n",
       "      <td>2021年1月19日</td>\n",
       "      <td>3,790.18</td>\n",
       "      <td>3,796.00</td>\n",
       "      <td>3,799.63</td>\n",
       "      <td>3,782.39</td>\n",
       "      <td>-</td>\n",
       "      <td>0.58%</td>\n",
       "    </tr>\n",
       "    <tr>\n",
       "      <th>1</th>\n",
       "      <td>2021年1月15日</td>\n",
       "      <td>3,768.25</td>\n",
       "      <td>3,788.73</td>\n",
       "      <td>3,788.73</td>\n",
       "      <td>3,749.62</td>\n",
       "      <td>-</td>\n",
       "      <td>-0.72%</td>\n",
       "    </tr>\n",
       "  </tbody>\n",
       "</table>\n",
       "</div>"
      ],
      "text/plain": [
       "           日期        收盘        开盘         高         低 交易量     涨跌幅\n",
       "0  2021年1月19日  3,790.18  3,796.00  3,799.63  3,782.39   -   0.58%\n",
       "1  2021年1月15日  3,768.25  3,788.73  3,788.73  3,749.62   -  -0.72%"
      ]
     },
     "execution_count": 7,
     "metadata": {},
     "output_type": "execute_result"
    }
   ],
   "source": [
    "sp500.head(2)"
   ]
  },
  {
   "cell_type": "code",
   "execution_count": 8,
   "metadata": {},
   "outputs": [],
   "source": [
    "def to_time_str(date):\n",
    "    year_index = date.find('年')\n",
    "    month_index= date.find('月')\n",
    "    day_index = date.find('日')\n",
    "    # print(year_index, month_index, day_index)\n",
    "    year = int(date[0:year_index])\n",
    "    month = int(date[year_index+1:month_index])\n",
    "    day = int(date[month_index+1:day_index])\n",
    "    date = datetime.datetime(year, month, day).strftime('%Y-%m-%d')\n",
    "    return date\n",
    "\n",
    "sp500['date'] = sp500['日期'].apply(to_time_str)"
   ]
  },
  {
   "cell_type": "code",
   "execution_count": 9,
   "metadata": {},
   "outputs": [
    {
     "data": {
      "text/html": [
       "<div>\n",
       "<style scoped>\n",
       "    .dataframe tbody tr th:only-of-type {\n",
       "        vertical-align: middle;\n",
       "    }\n",
       "\n",
       "    .dataframe tbody tr th {\n",
       "        vertical-align: top;\n",
       "    }\n",
       "\n",
       "    .dataframe thead th {\n",
       "        text-align: right;\n",
       "    }\n",
       "</style>\n",
       "<table border=\"1\" class=\"dataframe\">\n",
       "  <thead>\n",
       "    <tr style=\"text-align: right;\">\n",
       "      <th></th>\n",
       "      <th>日期</th>\n",
       "      <th>收盘</th>\n",
       "      <th>开盘</th>\n",
       "      <th>高</th>\n",
       "      <th>低</th>\n",
       "      <th>交易量</th>\n",
       "      <th>涨跌幅</th>\n",
       "      <th>date</th>\n",
       "    </tr>\n",
       "  </thead>\n",
       "  <tbody>\n",
       "    <tr>\n",
       "      <th>0</th>\n",
       "      <td>2021年1月19日</td>\n",
       "      <td>3,790.18</td>\n",
       "      <td>3,796.00</td>\n",
       "      <td>3,799.63</td>\n",
       "      <td>3,782.39</td>\n",
       "      <td>-</td>\n",
       "      <td>0.58%</td>\n",
       "      <td>2021-01-19</td>\n",
       "    </tr>\n",
       "    <tr>\n",
       "      <th>1</th>\n",
       "      <td>2021年1月15日</td>\n",
       "      <td>3,768.25</td>\n",
       "      <td>3,788.73</td>\n",
       "      <td>3,788.73</td>\n",
       "      <td>3,749.62</td>\n",
       "      <td>-</td>\n",
       "      <td>-0.72%</td>\n",
       "      <td>2021-01-15</td>\n",
       "    </tr>\n",
       "  </tbody>\n",
       "</table>\n",
       "</div>"
      ],
      "text/plain": [
       "           日期        收盘        开盘         高         低 交易量     涨跌幅        date\n",
       "0  2021年1月19日  3,790.18  3,796.00  3,799.63  3,782.39   -   0.58%  2021-01-19\n",
       "1  2021年1月15日  3,768.25  3,788.73  3,788.73  3,749.62   -  -0.72%  2021-01-15"
      ]
     },
     "execution_count": 9,
     "metadata": {},
     "output_type": "execute_result"
    }
   ],
   "source": [
    "sp500.head(2)"
   ]
  },
  {
   "cell_type": "code",
   "execution_count": 10,
   "metadata": {},
   "outputs": [],
   "source": [
    "guozhai.set_index('日期', inplace=True)"
   ]
  },
  {
   "cell_type": "code",
   "execution_count": 11,
   "metadata": {},
   "outputs": [],
   "source": [
    "guozhai.sort_index(inplace=True)"
   ]
  },
  {
   "cell_type": "code",
   "execution_count": 12,
   "metadata": {},
   "outputs": [
    {
     "data": {
      "text/html": [
       "<div>\n",
       "<style scoped>\n",
       "    .dataframe tbody tr th:only-of-type {\n",
       "        vertical-align: middle;\n",
       "    }\n",
       "\n",
       "    .dataframe tbody tr th {\n",
       "        vertical-align: top;\n",
       "    }\n",
       "\n",
       "    .dataframe thead th {\n",
       "        text-align: right;\n",
       "    }\n",
       "</style>\n",
       "<table border=\"1\" class=\"dataframe\">\n",
       "  <thead>\n",
       "    <tr style=\"text-align: right;\">\n",
       "      <th></th>\n",
       "      <th>股票代码</th>\n",
       "      <th>名称</th>\n",
       "      <th>收盘价</th>\n",
       "      <th>最高价</th>\n",
       "      <th>最低价</th>\n",
       "      <th>开盘价</th>\n",
       "      <th>前收盘</th>\n",
       "      <th>涨跌额</th>\n",
       "      <th>涨跌幅</th>\n",
       "      <th>成交量</th>\n",
       "      <th>成交金额</th>\n",
       "    </tr>\n",
       "    <tr>\n",
       "      <th>日期</th>\n",
       "      <th></th>\n",
       "      <th></th>\n",
       "      <th></th>\n",
       "      <th></th>\n",
       "      <th></th>\n",
       "      <th></th>\n",
       "      <th></th>\n",
       "      <th></th>\n",
       "      <th></th>\n",
       "      <th></th>\n",
       "      <th></th>\n",
       "    </tr>\n",
       "  </thead>\n",
       "  <tbody>\n",
       "    <tr>\n",
       "      <th>2003-02-24</th>\n",
       "      <td>'000012</td>\n",
       "      <td>国债指数</td>\n",
       "      <td>100.668</td>\n",
       "      <td>100.676</td>\n",
       "      <td>100.635</td>\n",
       "      <td>100.672</td>\n",
       "      <td>100.64</td>\n",
       "      <td>0.024</td>\n",
       "      <td>0.0278</td>\n",
       "      <td>1612000</td>\n",
       "      <td>1.672104e+09</td>\n",
       "    </tr>\n",
       "  </tbody>\n",
       "</table>\n",
       "</div>"
      ],
      "text/plain": [
       "               股票代码    名称      收盘价      最高价      最低价      开盘价     前收盘    涨跌额  \\\n",
       "日期                                                                             \n",
       "2003-02-24  '000012  国债指数  100.668  100.676  100.635  100.672  100.64  0.024   \n",
       "\n",
       "               涨跌幅      成交量          成交金额  \n",
       "日期                                         \n",
       "2003-02-24  0.0278  1612000  1.672104e+09  "
      ]
     },
     "execution_count": 12,
     "metadata": {},
     "output_type": "execute_result"
    }
   ],
   "source": [
    "guozhai.head(1)"
   ]
  },
  {
   "cell_type": "code",
   "execution_count": 13,
   "metadata": {},
   "outputs": [
    {
     "data": {
      "text/html": [
       "<div>\n",
       "<style scoped>\n",
       "    .dataframe tbody tr th:only-of-type {\n",
       "        vertical-align: middle;\n",
       "    }\n",
       "\n",
       "    .dataframe tbody tr th {\n",
       "        vertical-align: top;\n",
       "    }\n",
       "\n",
       "    .dataframe thead th {\n",
       "        text-align: right;\n",
       "    }\n",
       "</style>\n",
       "<table border=\"1\" class=\"dataframe\">\n",
       "  <thead>\n",
       "    <tr style=\"text-align: right;\">\n",
       "      <th></th>\n",
       "      <th>股票代码</th>\n",
       "      <th>名称</th>\n",
       "      <th>收盘价</th>\n",
       "      <th>最高价</th>\n",
       "      <th>最低价</th>\n",
       "      <th>开盘价</th>\n",
       "      <th>前收盘</th>\n",
       "      <th>涨跌额</th>\n",
       "      <th>涨跌幅</th>\n",
       "      <th>成交量</th>\n",
       "      <th>成交金额</th>\n",
       "    </tr>\n",
       "    <tr>\n",
       "      <th>日期</th>\n",
       "      <th></th>\n",
       "      <th></th>\n",
       "      <th></th>\n",
       "      <th></th>\n",
       "      <th></th>\n",
       "      <th></th>\n",
       "      <th></th>\n",
       "      <th></th>\n",
       "      <th></th>\n",
       "      <th></th>\n",
       "      <th></th>\n",
       "    </tr>\n",
       "  </thead>\n",
       "  <tbody>\n",
       "    <tr>\n",
       "      <th>2002-01-04</th>\n",
       "      <td>'000300</td>\n",
       "      <td>沪深300</td>\n",
       "      <td>1316.46</td>\n",
       "      <td>1316.46</td>\n",
       "      <td>1316.46</td>\n",
       "      <td>1316.46</td>\n",
       "      <td>None</td>\n",
       "      <td>None</td>\n",
       "      <td>None</td>\n",
       "      <td>0</td>\n",
       "      <td>0.0</td>\n",
       "    </tr>\n",
       "  </tbody>\n",
       "</table>\n",
       "</div>"
      ],
      "text/plain": [
       "               股票代码     名称      收盘价      最高价      最低价      开盘价   前收盘   涨跌额  \\\n",
       "日期                                                                           \n",
       "2002-01-04  '000300  沪深300  1316.46  1316.46  1316.46  1316.46  None  None   \n",
       "\n",
       "             涨跌幅  成交量  成交金额  \n",
       "日期                           \n",
       "2002-01-04  None    0   0.0  "
      ]
     },
     "execution_count": 13,
     "metadata": {},
     "output_type": "execute_result"
    }
   ],
   "source": [
    "hs300.set_index('日期', inplace=True)\n",
    "hs300.sort_index(inplace=True)\n",
    "hs300.head(1)"
   ]
  },
  {
   "cell_type": "code",
   "execution_count": 14,
   "metadata": {},
   "outputs": [
    {
     "data": {
      "text/html": [
       "<div>\n",
       "<style scoped>\n",
       "    .dataframe tbody tr th:only-of-type {\n",
       "        vertical-align: middle;\n",
       "    }\n",
       "\n",
       "    .dataframe tbody tr th {\n",
       "        vertical-align: top;\n",
       "    }\n",
       "\n",
       "    .dataframe thead th {\n",
       "        text-align: right;\n",
       "    }\n",
       "</style>\n",
       "<table border=\"1\" class=\"dataframe\">\n",
       "  <thead>\n",
       "    <tr style=\"text-align: right;\">\n",
       "      <th></th>\n",
       "      <th>日期</th>\n",
       "      <th>收盘</th>\n",
       "      <th>开盘</th>\n",
       "      <th>高</th>\n",
       "      <th>低</th>\n",
       "      <th>交易量</th>\n",
       "      <th>涨跌幅</th>\n",
       "    </tr>\n",
       "    <tr>\n",
       "      <th>date</th>\n",
       "      <th></th>\n",
       "      <th></th>\n",
       "      <th></th>\n",
       "      <th></th>\n",
       "      <th></th>\n",
       "      <th></th>\n",
       "      <th></th>\n",
       "    </tr>\n",
       "  </thead>\n",
       "  <tbody>\n",
       "    <tr>\n",
       "      <th>2006-01-04</th>\n",
       "      <td>2006年1月4日</td>\n",
       "      <td>1,273.46</td>\n",
       "      <td>1,268.80</td>\n",
       "      <td>1,275.37</td>\n",
       "      <td>1,267.74</td>\n",
       "      <td>-</td>\n",
       "      <td>0.37%</td>\n",
       "    </tr>\n",
       "  </tbody>\n",
       "</table>\n",
       "</div>"
      ],
      "text/plain": [
       "                   日期        收盘        开盘         高         低 交易量    涨跌幅\n",
       "date                                                                    \n",
       "2006-01-04  2006年1月4日  1,273.46  1,268.80  1,275.37  1,267.74   -  0.37%"
      ]
     },
     "execution_count": 14,
     "metadata": {},
     "output_type": "execute_result"
    }
   ],
   "source": [
    "sp500 = sp500.set_index('date').sort_index()\n",
    "sp500.head(1)"
   ]
  },
  {
   "cell_type": "code",
   "execution_count": 15,
   "metadata": {},
   "outputs": [
    {
     "name": "stdout",
     "output_type": "stream",
     "text": [
      "0.035321878608422175\n",
      "0.10423436779013733\n",
      "0.338869792730343\n"
     ]
    }
   ],
   "source": [
    "print(get_annual_return(guozhai.收盘价.values))\n",
    "print(get_max_drawdown(guozhai.收盘价.values))\n",
    "print(get_mar(guozhai.收盘价.values))"
   ]
  },
  {
   "cell_type": "code",
   "execution_count": 16,
   "metadata": {},
   "outputs": [
    {
     "name": "stdout",
     "output_type": "stream",
     "text": [
      "0.0799947954016329\n",
      "0.723038445845489\n",
      "0.11063698737083136\n"
     ]
    }
   ],
   "source": [
    "print(get_annual_return(hs300.收盘价.values))\n",
    "print(get_max_drawdown(hs300.收盘价.values))\n",
    "print(get_mar(hs300.收盘价.values))"
   ]
  },
  {
   "cell_type": "code",
   "execution_count": 17,
   "metadata": {},
   "outputs": [
    {
     "name": "stdout",
     "output_type": "stream",
     "text": [
      "0.13991459046620824\n",
      "0.2222809780546966\n",
      "0.6294492299371632\n"
     ]
    }
   ],
   "source": [
    "def to_number(num):\n",
    "    return float(num.replace(',', ''))\n",
    "close = sp500.收盘[(sp500.index > '2009-01-31') & (sp500.index<'2017-11-31')].map(to_number).values\n",
    "print(get_annual_return(close))\n",
    "print(get_max_drawdown(close))\n",
    "print(get_mar(close))"
   ]
  },
  {
   "cell_type": "code",
   "execution_count": 18,
   "metadata": {},
   "outputs": [],
   "source": [
    "sp500['close'] = sp500.收盘.map(to_number)"
   ]
  },
  {
   "cell_type": "code",
   "execution_count": 19,
   "metadata": {},
   "outputs": [
    {
     "data": {
      "text/html": [
       "<div>\n",
       "<style scoped>\n",
       "    .dataframe tbody tr th:only-of-type {\n",
       "        vertical-align: middle;\n",
       "    }\n",
       "\n",
       "    .dataframe tbody tr th {\n",
       "        vertical-align: top;\n",
       "    }\n",
       "\n",
       "    .dataframe thead th {\n",
       "        text-align: right;\n",
       "    }\n",
       "</style>\n",
       "<table border=\"1\" class=\"dataframe\">\n",
       "  <thead>\n",
       "    <tr style=\"text-align: right;\">\n",
       "      <th></th>\n",
       "      <th>日期</th>\n",
       "      <th>收盘</th>\n",
       "      <th>开盘</th>\n",
       "      <th>高</th>\n",
       "      <th>低</th>\n",
       "      <th>交易量</th>\n",
       "      <th>涨跌幅</th>\n",
       "      <th>close</th>\n",
       "    </tr>\n",
       "    <tr>\n",
       "      <th>date</th>\n",
       "      <th></th>\n",
       "      <th></th>\n",
       "      <th></th>\n",
       "      <th></th>\n",
       "      <th></th>\n",
       "      <th></th>\n",
       "      <th></th>\n",
       "      <th></th>\n",
       "    </tr>\n",
       "  </thead>\n",
       "  <tbody>\n",
       "    <tr>\n",
       "      <th>2006-01-04</th>\n",
       "      <td>2006年1月4日</td>\n",
       "      <td>1,273.46</td>\n",
       "      <td>1,268.80</td>\n",
       "      <td>1,275.37</td>\n",
       "      <td>1,267.74</td>\n",
       "      <td>-</td>\n",
       "      <td>0.37%</td>\n",
       "      <td>1273.46</td>\n",
       "    </tr>\n",
       "  </tbody>\n",
       "</table>\n",
       "</div>"
      ],
      "text/plain": [
       "                   日期        收盘        开盘         高         低 交易量    涨跌幅  \\\n",
       "date                                                                       \n",
       "2006-01-04  2006年1月4日  1,273.46  1,268.80  1,275.37  1,267.74   -  0.37%   \n",
       "\n",
       "              close  \n",
       "date                 \n",
       "2006-01-04  1273.46  "
      ]
     },
     "execution_count": 19,
     "metadata": {},
     "output_type": "execute_result"
    }
   ],
   "source": [
    "sp500.head(1)"
   ]
  },
  {
   "cell_type": "code",
   "execution_count": 20,
   "metadata": {},
   "outputs": [],
   "source": [
    "total = pd.concat([guozhai.收盘价.rename('国债'), hs300.收盘价.rename('沪深300'), sp500.close.rename('标普500')], axis = 1)"
   ]
  },
  {
   "cell_type": "code",
   "execution_count": 21,
   "metadata": {},
   "outputs": [],
   "source": [
    "total.sort_index(inplace=True)"
   ]
  },
  {
   "cell_type": "code",
   "execution_count": 22,
   "metadata": {},
   "outputs": [
    {
     "data": {
      "text/html": [
       "<div>\n",
       "<style scoped>\n",
       "    .dataframe tbody tr th:only-of-type {\n",
       "        vertical-align: middle;\n",
       "    }\n",
       "\n",
       "    .dataframe tbody tr th {\n",
       "        vertical-align: top;\n",
       "    }\n",
       "\n",
       "    .dataframe thead th {\n",
       "        text-align: right;\n",
       "    }\n",
       "</style>\n",
       "<table border=\"1\" class=\"dataframe\">\n",
       "  <thead>\n",
       "    <tr style=\"text-align: right;\">\n",
       "      <th></th>\n",
       "      <th>国债</th>\n",
       "      <th>沪深300</th>\n",
       "      <th>标普500</th>\n",
       "    </tr>\n",
       "  </thead>\n",
       "  <tbody>\n",
       "    <tr>\n",
       "      <th>2021-01-12</th>\n",
       "      <td>184.1756</td>\n",
       "      <td>5596.3525</td>\n",
       "      <td>3801.19</td>\n",
       "    </tr>\n",
       "    <tr>\n",
       "      <th>2021-01-13</th>\n",
       "      <td>184.2425</td>\n",
       "      <td>5577.9711</td>\n",
       "      <td>3809.84</td>\n",
       "    </tr>\n",
       "    <tr>\n",
       "      <th>2021-01-14</th>\n",
       "      <td>184.2246</td>\n",
       "      <td>5470.4563</td>\n",
       "      <td>3795.54</td>\n",
       "    </tr>\n",
       "    <tr>\n",
       "      <th>2021-01-15</th>\n",
       "      <td>184.2401</td>\n",
       "      <td>5458.0812</td>\n",
       "      <td>3768.25</td>\n",
       "    </tr>\n",
       "    <tr>\n",
       "      <th>2021-01-19</th>\n",
       "      <td>NaN</td>\n",
       "      <td>NaN</td>\n",
       "      <td>3790.18</td>\n",
       "    </tr>\n",
       "  </tbody>\n",
       "</table>\n",
       "</div>"
      ],
      "text/plain": [
       "                  国债      沪深300    标普500\n",
       "2021-01-12  184.1756  5596.3525  3801.19\n",
       "2021-01-13  184.2425  5577.9711  3809.84\n",
       "2021-01-14  184.2246  5470.4563  3795.54\n",
       "2021-01-15  184.2401  5458.0812  3768.25\n",
       "2021-01-19       NaN        NaN  3790.18"
      ]
     },
     "execution_count": 22,
     "metadata": {},
     "output_type": "execute_result"
    }
   ],
   "source": [
    "total.tail()"
   ]
  },
  {
   "cell_type": "code",
   "execution_count": 23,
   "metadata": {},
   "outputs": [],
   "source": [
    "total = total.dropna()"
   ]
  },
  {
   "cell_type": "code",
   "execution_count": 24,
   "metadata": {},
   "outputs": [
    {
     "data": {
      "text/html": [
       "<div>\n",
       "<style scoped>\n",
       "    .dataframe tbody tr th:only-of-type {\n",
       "        vertical-align: middle;\n",
       "    }\n",
       "\n",
       "    .dataframe tbody tr th {\n",
       "        vertical-align: top;\n",
       "    }\n",
       "\n",
       "    .dataframe thead th {\n",
       "        text-align: right;\n",
       "    }\n",
       "</style>\n",
       "<table border=\"1\" class=\"dataframe\">\n",
       "  <thead>\n",
       "    <tr style=\"text-align: right;\">\n",
       "      <th></th>\n",
       "      <th>国债</th>\n",
       "      <th>沪深300</th>\n",
       "      <th>标普500</th>\n",
       "    </tr>\n",
       "  </thead>\n",
       "  <tbody>\n",
       "    <tr>\n",
       "      <th>2006-01-04</th>\n",
       "      <td>109.187</td>\n",
       "      <td>941.428</td>\n",
       "      <td>1273.46</td>\n",
       "    </tr>\n",
       "    <tr>\n",
       "      <th>2006-01-05</th>\n",
       "      <td>109.339</td>\n",
       "      <td>959.134</td>\n",
       "      <td>1273.48</td>\n",
       "    </tr>\n",
       "    <tr>\n",
       "      <th>2006-01-06</th>\n",
       "      <td>109.553</td>\n",
       "      <td>970.032</td>\n",
       "      <td>1285.45</td>\n",
       "    </tr>\n",
       "    <tr>\n",
       "      <th>2006-01-09</th>\n",
       "      <td>109.628</td>\n",
       "      <td>975.253</td>\n",
       "      <td>1290.15</td>\n",
       "    </tr>\n",
       "    <tr>\n",
       "      <th>2006-01-10</th>\n",
       "      <td>109.729</td>\n",
       "      <td>978.154</td>\n",
       "      <td>1289.69</td>\n",
       "    </tr>\n",
       "  </tbody>\n",
       "</table>\n",
       "</div>"
      ],
      "text/plain": [
       "                 国债    沪深300    标普500\n",
       "2006-01-04  109.187  941.428  1273.46\n",
       "2006-01-05  109.339  959.134  1273.48\n",
       "2006-01-06  109.553  970.032  1285.45\n",
       "2006-01-09  109.628  975.253  1290.15\n",
       "2006-01-10  109.729  978.154  1289.69"
      ]
     },
     "execution_count": 24,
     "metadata": {},
     "output_type": "execute_result"
    }
   ],
   "source": [
    "total.head()"
   ]
  },
  {
   "cell_type": "code",
   "execution_count": 25,
   "metadata": {},
   "outputs": [
    {
     "data": {
      "text/plain": [
       "array([<matplotlib.axes._subplots.AxesSubplot object at 0x000001272ACBB048>,\n",
       "       <matplotlib.axes._subplots.AxesSubplot object at 0x000001272AD0BC50>,\n",
       "       <matplotlib.axes._subplots.AxesSubplot object at 0x000001272CE10208>],\n",
       "      dtype=object)"
      ]
     },
     "execution_count": 25,
     "metadata": {},
     "output_type": "execute_result"
    },
    {
     "data": {
      "image/png": "[encoded data removed]",
      "text/plain": [
       "<Figure size 432x288 with 3 Axes>"
      ]
     },
     "metadata": {
      "needs_background": "light"
     },
     "output_type": "display_data"
    }
   ],
   "source": [
    "total.plot(subplots=True)"
   ]
  },
  {
   "cell_type": "code",
   "execution_count": 28,
   "metadata": {},
   "outputs": [],
   "source": [
    "\n",
    "# 等权重部署 不调仓位\n",
    "s_pnl = np.array([])\n",
    "s_weight = np.array([1.0/3.0, 1.0/3.0, 1.0/3.0])\n",
    "\n",
    "for i in np.arange(0, total.shape[0]):\n",
    "    if i == 0:\n",
    "        s_pnl = np.append(s_pnl, 1)\n",
    "        continue\n",
    "    else:\n",
    "        y_md = total.values[i-1, ]\n",
    "        t_md = total.values[i, ]\n",
    "        t_return = t_md / y_md\n",
    "        \n",
    "        s_weight = s_weight * t_return\n",
    "        s_pnl = np.append(s_pnl, s_weight.sum())\n"
   ]
  },
  {
   "cell_type": "code",
   "execution_count": 29,
   "metadata": {},
   "outputs": [
    {
     "data": {
      "text/plain": [
       "[<matplotlib.lines.Line2D at 0x1272dfd8518>]"
      ]
     },
     "execution_count": 29,
     "metadata": {},
     "output_type": "execute_result"
    },
    {
     "data": {
      "image/png": "[encoded data removed]",
      "text/plain": [
       "<Figure size 432x288 with 1 Axes>"
      ]
     },
     "metadata": {
      "needs_background": "light"
     },
     "output_type": "display_data"
    }
   ],
   "source": [
    "plt.plot(s_pnl)"
   ]
  },
  {
   "cell_type": "code",
   "execution_count": 30,
   "metadata": {},
   "outputs": [
    {
     "name": "stdout",
     "output_type": "stream",
     "text": [
      "0.09217350458180218\n",
      "0.5850656832108341\n",
      "0.15754385742803267\n"
     ]
    }
   ],
   "source": [
    "print(get_annual_return(s_pnl))\n",
    "print(get_max_drawdown(s_pnl))\n",
    "print(get_mar(s_pnl))"
   ]
  },
  {
   "cell_type": "code",
   "execution_count": 33,
   "metadata": {},
   "outputs": [],
   "source": [
    "\n",
    "# 等权重部署 按月调仓\n",
    "s_pnl = np.array([])\n",
    "s_weight = np.array([1.0/3.0, 1.0/3.0, 1.0/3.0])\n",
    "\n",
    "def is_balance_day(today, yesterday):\n",
    "    today = get_datetime_from_str(today).month\n",
    "    yesterday = get_datetime_from_str(yesterday).month\n",
    "    if today != yesterday:\n",
    "        return True\n",
    "    \n",
    "    return False\n",
    "\n",
    "for i in np.arange(0, total.shape[0]):\n",
    "    if i == 0:\n",
    "        s_pnl = np.append(s_pnl, 1)\n",
    "        continue\n",
    "    else:\n",
    "        y_md = total.values[i-1, ]\n",
    "        t_md = total.values[i, ]\n",
    "        t_return = t_md / y_md\n",
    "        \n",
    "        s_weight = s_weight * t_return\n",
    "        s_pnl = np.append(s_pnl, s_weight.sum())\n",
    "    \n",
    "    yd = total.index[i-1]\n",
    "    td = total.index[i]\n",
    "    if is_balance_day(td, yd):\n",
    "        cur_pnl = s_pnl[-1]\n",
    "        s_weight = np.array([cur_pnl/3.0, cur_pnl/3.0, cur_pnl/3.0])"
   ]
  },
  {
   "cell_type": "code",
   "execution_count": 36,
   "metadata": {},
   "outputs": [
    {
     "data": {
      "text/plain": [
       "[<matplotlib.lines.Line2D at 0x1272e0e8160>]"
      ]
     },
     "execution_count": 36,
     "metadata": {},
     "output_type": "execute_result"
    },
    {
     "data": {
      "image/png": "[encoded data removed]",
      "text/plain": [
       "<Figure size 432x288 with 1 Axes>"
      ]
     },
     "metadata": {
      "needs_background": "light"
     },
     "output_type": "display_data"
    }
   ],
   "source": [
    "plt.plot(s_pnl)"
   ]
  },
  {
   "cell_type": "code",
   "execution_count": 37,
   "metadata": {},
   "outputs": [
    {
     "name": "stdout",
     "output_type": "stream",
     "text": [
      "0.09769276146682482\n",
      "0.42338663993734843\n",
      "0.23074124748310698\n"
     ]
    }
   ],
   "source": [
    "print(get_annual_return(s_pnl))\n",
    "print(get_max_drawdown(s_pnl))\n",
    "print(get_mar(s_pnl))"
   ]
  },
  {
   "cell_type": "code",
   "execution_count": 38,
   "metadata": {},
   "outputs": [
    {
     "ename": "ModuleNotFoundError",
     "evalue": "No module named 'helper'",
     "output_type": "error",
     "traceback": [
      "\u001b[1;31m---------------------------------------------------------------------------\u001b[0m",
      "\u001b[1;31mModuleNotFoundError\u001b[0m                       Traceback (most recent call last)",
      "\u001b[1;32m<ipython-input-38-9646e0b4041f>\u001b[0m in \u001b[0;36m<module>\u001b[1;34m()\u001b[0m\n\u001b[1;32m----> 1\u001b[1;33m \u001b[1;32mfrom\u001b[0m \u001b[0mportfolioHelper\u001b[0m \u001b[1;32mimport\u001b[0m \u001b[1;33m*\u001b[0m\u001b[1;33m\u001b[0m\u001b[0m\n\u001b[0m",
      "\u001b[1;32m~\\Desktop\\fund\\fund_study\\src\\portfolioHelper.py\u001b[0m in \u001b[0;36m<module>\u001b[1;34m()\u001b[0m\n\u001b[1;32m----> 1\u001b[1;33m \u001b[1;32mfrom\u001b[0m \u001b[0mhelper\u001b[0m \u001b[1;32mimport\u001b[0m \u001b[1;33m*\u001b[0m\u001b[1;33m\u001b[0m\u001b[0m\n\u001b[0m\u001b[0;32m      2\u001b[0m \u001b[1;33m\u001b[0m\u001b[0m\n\u001b[0;32m      3\u001b[0m \u001b[1;32mdef\u001b[0m \u001b[0mannualize_rets\u001b[0m\u001b[1;33m(\u001b[0m\u001b[0mr\u001b[0m\u001b[1;33m,\u001b[0m \u001b[0mperiods_per_year\u001b[0m\u001b[1;33m)\u001b[0m\u001b[1;33m:\u001b[0m\u001b[1;33m\u001b[0m\u001b[0m\n\u001b[0;32m      4\u001b[0m     \"\"\"\n\u001b[0;32m      5\u001b[0m     \u001b[0mAnnualizes\u001b[0m \u001b[0ma\u001b[0m \u001b[0mset\u001b[0m \u001b[0mof\u001b[0m \u001b[0mreturns\u001b[0m\u001b[1;33m\u001b[0m\u001b[0m\n",
      "\u001b[1;31mModuleNotFoundError\u001b[0m: No module named 'helper'"
     ]
    }
   ],
   "source": [
    "from portfolioHelper import *"
   ]
  },
  {
   "cell_type": "code",
   "execution_count": 39,
   "metadata": {},
   "outputs": [],
   "source": [
    "def calc_portfolio_risk_contribution(weights, covmat):\n",
    "    \"\"\"\n",
    "    Compute the contributions to risk of the constituents of a portfolio, given a set of portfolio weights and a covariance matrix\n",
    "    \"\"\"\n",
    "    total_portfolio_var = calc_portfolio_vol(weights, covmat)**2\n",
    "    # Marginal contribution of each constituent\n",
    "    marginal_contrib = covmat@weights\n",
    "    risk_contrib = np.multiply(marginal_contrib, weights.T)/total_portfolio_var\n",
    "    return risk_contrib\n",
    "\n",
    "def calc_target_risk_contributions_weights(target_risk, cov):\n",
    "    \"\"\"\n",
    "    Returns the weights of the portfolio that gives you the weights such\n",
    "    that the contributions to portfolio risk are as close as possible to\n",
    "    the target_risk, given the covariance matrix\n",
    "    \"\"\"\n",
    "    n = cov.shape[0]\n",
    "    init_guess = np.repeat(1/n, n)\n",
    "    bounds = ((0.0, 1.0),) * n # an N-tuple of 2-tuples!\n",
    "    # construct the constraints\n",
    "    weights_sum_to_1 = {'type': 'eq',\n",
    "                        'fun': lambda weights: np.sum(weights) - 1\n",
    "    }\n",
    "    def msd_risk(weights, target_risk, cov):\n",
    "        \"\"\"\n",
    "        Returns the Mean Squared Difference in risk contributions\n",
    "        between weights and target_risk\n",
    "        \"\"\"\n",
    "        w_contribs = calc_portfolio_risk_contribution(weights, cov)\n",
    "        return ((w_contribs-target_risk)**2).sum()\n",
    "    \n",
    "    weights = minimize(msd_risk, init_guess,\n",
    "                       args=(target_risk, cov), method='SLSQP',\n",
    "                       options={'disp': False},\n",
    "                       constraints=(weights_sum_to_1,),\n",
    "                       bounds=bounds)\n",
    "    return weights.x\n",
    "\n",
    "def calc_equal_risk_contributions_weights(cov):\n",
    "    \"\"\"\n",
    "    Returns the weights of the portfolio that equalizes the contributions\n",
    "    of the constituents based on the given covariance matrix\n",
    "    \"\"\"\n",
    "    n = cov.shape[0]\n",
    "    return calc_target_risk_contributions_weights(target_risk=np.repeat(1/n,n), cov=cov)"
   ]
  },
  {
   "cell_type": "code",
   "execution_count": 40,
   "metadata": {},
   "outputs": [],
   "source": [
    "def calc_portfolio_vol(weights, covmat):\n",
    "    \"\"\"\n",
    "    Computes the vol of a portfolio from a covariance matrix and constituent weights\n",
    "    weights are a numpy array or N x 1 maxtrix and covmat is an N x N matrix\n",
    "    \"\"\"\n",
    "    vol = (weights.T @ covmat @ weights)**0.5\n",
    "    return vol "
   ]
  },
  {
   "cell_type": "code",
   "execution_count": 44,
   "metadata": {},
   "outputs": [
    {
     "data": {
      "text/html": [
       "<div>\n",
       "<style scoped>\n",
       "    .dataframe tbody tr th:only-of-type {\n",
       "        vertical-align: middle;\n",
       "    }\n",
       "\n",
       "    .dataframe tbody tr th {\n",
       "        vertical-align: top;\n",
       "    }\n",
       "\n",
       "    .dataframe thead th {\n",
       "        text-align: right;\n",
       "    }\n",
       "</style>\n",
       "<table border=\"1\" class=\"dataframe\">\n",
       "  <thead>\n",
       "    <tr style=\"text-align: right;\">\n",
       "      <th></th>\n",
       "      <th>国债</th>\n",
       "      <th>沪深300</th>\n",
       "      <th>标普500</th>\n",
       "    </tr>\n",
       "  </thead>\n",
       "  <tbody>\n",
       "    <tr>\n",
       "      <th>国债</th>\n",
       "      <td>505.146395</td>\n",
       "      <td>9540.072657</td>\n",
       "      <td>14572.001162</td>\n",
       "    </tr>\n",
       "    <tr>\n",
       "      <th>沪深300</th>\n",
       "      <td>9540.072657</td>\n",
       "      <td>866018.794634</td>\n",
       "      <td>354744.088188</td>\n",
       "    </tr>\n",
       "    <tr>\n",
       "      <th>标普500</th>\n",
       "      <td>14572.001162</td>\n",
       "      <td>354744.088188</td>\n",
       "      <td>495423.472499</td>\n",
       "    </tr>\n",
       "  </tbody>\n",
       "</table>\n",
       "</div>"
      ],
      "text/plain": [
       "                 国债          沪深300          标普500\n",
       "国债       505.146395    9540.072657   14572.001162\n",
       "沪深300   9540.072657  866018.794634  354744.088188\n",
       "标普500  14572.001162  354744.088188  495423.472499"
      ]
     },
     "execution_count": 44,
     "metadata": {},
     "output_type": "execute_result"
    }
   ],
   "source": [
    "total.cov()"
   ]
  },
  {
   "cell_type": "code",
   "execution_count": 55,
   "metadata": {},
   "outputs": [
    {
     "data": {
      "text/plain": [
       "array([0.94501289, 0.02594474, 0.02904237])"
      ]
     },
     "execution_count": 55,
     "metadata": {},
     "output_type": "execute_result"
    }
   ],
   "source": [
    "calc_equal_risk_contributions_weights(total.cov().values)"
   ]
  },
  {
   "cell_type": "code",
   "execution_count": 52,
   "metadata": {},
   "outputs": [],
   "source": [
    "from scipy.optimize import minimize"
   ]
  },
  {
   "cell_type": "code",
   "execution_count": 72,
   "metadata": {},
   "outputs": [],
   "source": [
    "# 等权重部署 按月调仓\n",
    "s_pnl = np.array([])\n",
    "s_weight = np.array([1.0/3.0, 1.0/3.0, 1.0/3.0])\n",
    "\n",
    "def is_balance_day(today, yesterday):\n",
    "    today = get_datetime_from_str(today).month\n",
    "    yesterday = get_datetime_from_str(yesterday).month\n",
    "    if today != yesterday:\n",
    "        return True\n",
    "    \n",
    "    return False\n",
    "\n",
    "for i in np.arange(0, total.shape[0]):\n",
    "    if i == 0:\n",
    "        s_pnl = np.append(s_pnl, 1)\n",
    "        continue\n",
    "    else:\n",
    "        y_md = total.values[i-1, ]\n",
    "        t_md = total.values[i, ]\n",
    "        t_return = t_md / y_md\n",
    "        \n",
    "        s_weight = s_weight * t_return\n",
    "        s_pnl = np.append(s_pnl, s_weight.sum())\n",
    "    \n",
    "    yd = total.index[i-1]\n",
    "    td = total.index[i]\n",
    "    if is_balance_day(td, yd):\n",
    "        cur_pnl = s_pnl[-1]\n",
    "        if i > 40:\n",
    "            cov = total.iloc[i-35:i, ]\n",
    "            weight = calc_equal_risk_contributions_weights(cov.cov().values)\n",
    "            # print(weight)\n",
    "            s_weight = np.array([cur_pnl*weight[0], cur_pnl*weight[1], cur_pnl*weight[2]])"
   ]
  },
  {
   "cell_type": "code",
   "execution_count": 73,
   "metadata": {},
   "outputs": [
    {
     "data": {
      "text/plain": [
       "[<matplotlib.lines.Line2D at 0x1272e9c4ba8>]"
      ]
     },
     "execution_count": 73,
     "metadata": {},
     "output_type": "execute_result"
    },
    {
     "data": {
      "image/png": "[encoded data removed]",
      "text/plain": [
       "<Figure size 432x288 with 1 Axes>"
      ]
     },
     "metadata": {
      "needs_background": "light"
     },
     "output_type": "display_data"
    }
   ],
   "source": [
    "plt.plot(s_pnl)"
   ]
  },
  {
   "cell_type": "code",
   "execution_count": 74,
   "metadata": {},
   "outputs": [
    {
     "name": "stdout",
     "output_type": "stream",
     "text": [
      "0.09678643764520278\n",
      "0.40403342765123346\n",
      "0.23955056938692212\n"
     ]
    }
   ],
   "source": [
    "print(get_annual_return(s_pnl))\n",
    "print(get_max_drawdown(s_pnl))\n",
    "print(get_mar(s_pnl))"
   ]
  },
  {
   "cell_type": "code",
   "execution_count": null,
   "metadata": {},
   "outputs": [],
   "source": []
  }
 ],
 "metadata": {
  "kernelspec": {
   "display_name": "Python 3",
   "language": "python",
   "name": "python3"
  },
  "language_info": {
   "codemirror_mode": {
    "name": "ipython",
    "version": 3
   },
   "file_extension": ".py",
   "mimetype": "text/x-python",
   "name": "python",
   "nbconvert_exporter": "python",
   "pygments_lexer": "ipython3",
   "version": "3.7.0"
  }
 },
 "nbformat": 4,
 "nbformat_minor": 2
}
