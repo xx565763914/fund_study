{
 "cells": [
  {
   "cell_type": "code",
   "execution_count": 1,
   "metadata": {},
   "outputs": [
    {
     "name": "stderr",
     "output_type": "stream",
     "text": [
      "D:\\program_files\\anaconda_3_5\\lib\\site-packages\\requests\\__init__.py:91: RequestsDependencyWarning: urllib3 (1.26.2) or chardet (3.0.4) doesn't match a supported version!\n",
      "  RequestsDependencyWarning)\n"
     ]
    }
   ],
   "source": [
    "from common import *"
   ]
  },
  {
   "cell_type": "code",
   "execution_count": 2,
   "metadata": {},
   "outputs": [],
   "source": [
    "from pandas_datareader import data,wb"
   ]
  },
  {
   "cell_type": "code",
   "execution_count": 3,
   "metadata": {},
   "outputs": [],
   "source": [
    "guozhai = pd.read_csv('../data/000012.csv', encoding='gbk')\n",
    "hs300 = pd.read_csv('../data/000300.csv', encoding='gbk')"
   ]
  },
  {
   "cell_type": "code",
   "execution_count": 4,
   "metadata": {},
   "outputs": [
    {
     "data": {
      "text/html": [
       "<div>\n",
       "<style scoped>\n",
       "    .dataframe tbody tr th:only-of-type {\n",
       "        vertical-align: middle;\n",
       "    }\n",
       "\n",
       "    .dataframe tbody tr th {\n",
       "        vertical-align: top;\n",
       "    }\n",
       "\n",
       "    .dataframe thead th {\n",
       "        text-align: right;\n",
       "    }\n",
       "</style>\n",
       "<table border=\"1\" class=\"dataframe\">\n",
       "  <thead>\n",
       "    <tr style=\"text-align: right;\">\n",
       "      <th></th>\n",
       "      <th>日期</th>\n",
       "      <th>股票代码</th>\n",
       "      <th>名称</th>\n",
       "      <th>收盘价</th>\n",
       "      <th>最高价</th>\n",
       "      <th>最低价</th>\n",
       "      <th>开盘价</th>\n",
       "      <th>前收盘</th>\n",
       "      <th>涨跌额</th>\n",
       "      <th>涨跌幅</th>\n",
       "      <th>成交量</th>\n",
       "      <th>成交金额</th>\n",
       "    </tr>\n",
       "  </thead>\n",
       "  <tbody>\n",
       "    <tr>\n",
       "      <th>0</th>\n",
       "      <td>2021-01-15</td>\n",
       "      <td>'000012</td>\n",
       "      <td>国债指数</td>\n",
       "      <td>184.2401</td>\n",
       "      <td>184.2668</td>\n",
       "      <td>184.2232</td>\n",
       "      <td>184.2408</td>\n",
       "      <td>184.2246</td>\n",
       "      <td>0.0155</td>\n",
       "      <td>0.0084</td>\n",
       "      <td>127760</td>\n",
       "      <td>121224658.0</td>\n",
       "    </tr>\n",
       "    <tr>\n",
       "      <th>1</th>\n",
       "      <td>2021-01-14</td>\n",
       "      <td>'000012</td>\n",
       "      <td>国债指数</td>\n",
       "      <td>184.2246</td>\n",
       "      <td>184.2980</td>\n",
       "      <td>184.2079</td>\n",
       "      <td>184.2587</td>\n",
       "      <td>184.2425</td>\n",
       "      <td>-0.0179</td>\n",
       "      <td>-0.0097</td>\n",
       "      <td>277528</td>\n",
       "      <td>263245602.0</td>\n",
       "    </tr>\n",
       "  </tbody>\n",
       "</table>\n",
       "</div>"
      ],
      "text/plain": [
       "           日期     股票代码    名称       收盘价       最高价       最低价       开盘价  \\\n",
       "0  2021-01-15  '000012  国债指数  184.2401  184.2668  184.2232  184.2408   \n",
       "1  2021-01-14  '000012  国债指数  184.2246  184.2980  184.2079  184.2587   \n",
       "\n",
       "        前收盘     涨跌额     涨跌幅     成交量         成交金额  \n",
       "0  184.2246  0.0155  0.0084  127760  121224658.0  \n",
       "1  184.2425 -0.0179 -0.0097  277528  263245602.0  "
      ]
     },
     "execution_count": 4,
     "metadata": {},
     "output_type": "execute_result"
    }
   ],
   "source": [
    "guozhai.head(2)"
   ]
  },
  {
   "cell_type": "code",
   "execution_count": 6,
   "metadata": {},
   "outputs": [
    {
     "data": {
      "text/html": [
       "<div>\n",
       "<style scoped>\n",
       "    .dataframe tbody tr th:only-of-type {\n",
       "        vertical-align: middle;\n",
       "    }\n",
       "\n",
       "    .dataframe tbody tr th {\n",
       "        vertical-align: top;\n",
       "    }\n",
       "\n",
       "    .dataframe thead th {\n",
       "        text-align: right;\n",
       "    }\n",
       "</style>\n",
       "<table border=\"1\" class=\"dataframe\">\n",
       "  <thead>\n",
       "    <tr style=\"text-align: right;\">\n",
       "      <th></th>\n",
       "      <th>日期</th>\n",
       "      <th>股票代码</th>\n",
       "      <th>名称</th>\n",
       "      <th>收盘价</th>\n",
       "      <th>最高价</th>\n",
       "      <th>最低价</th>\n",
       "      <th>开盘价</th>\n",
       "      <th>前收盘</th>\n",
       "      <th>涨跌额</th>\n",
       "      <th>涨跌幅</th>\n",
       "      <th>成交量</th>\n",
       "      <th>成交金额</th>\n",
       "    </tr>\n",
       "  </thead>\n",
       "  <tbody>\n",
       "    <tr>\n",
       "      <th>0</th>\n",
       "      <td>2021-01-15</td>\n",
       "      <td>'000300</td>\n",
       "      <td>沪深300</td>\n",
       "      <td>5458.0812</td>\n",
       "      <td>5500.6348</td>\n",
       "      <td>5390.2737</td>\n",
       "      <td>5471.3910</td>\n",
       "      <td>5470.4563</td>\n",
       "      <td>-12.3751</td>\n",
       "      <td>-0.2262</td>\n",
       "      <td>238637435</td>\n",
       "      <td>4.757099e+11</td>\n",
       "    </tr>\n",
       "    <tr>\n",
       "      <th>1</th>\n",
       "      <td>2021-01-14</td>\n",
       "      <td>'000300</td>\n",
       "      <td>沪深300</td>\n",
       "      <td>5470.4563</td>\n",
       "      <td>5568.0179</td>\n",
       "      <td>5458.6818</td>\n",
       "      <td>5556.2125</td>\n",
       "      <td>5577.9711</td>\n",
       "      <td>-107.5148</td>\n",
       "      <td>-1.9275</td>\n",
       "      <td>243683380</td>\n",
       "      <td>5.018901e+11</td>\n",
       "    </tr>\n",
       "  </tbody>\n",
       "</table>\n",
       "</div>"
      ],
      "text/plain": [
       "           日期     股票代码     名称        收盘价        最高价        最低价        开盘价  \\\n",
       "0  2021-01-15  '000300  沪深300  5458.0812  5500.6348  5390.2737  5471.3910   \n",
       "1  2021-01-14  '000300  沪深300  5470.4563  5568.0179  5458.6818  5556.2125   \n",
       "\n",
       "         前收盘        涨跌额      涨跌幅        成交量          成交金额  \n",
       "0  5470.4563   -12.3751  -0.2262  238637435  4.757099e+11  \n",
       "1  5577.9711  -107.5148  -1.9275  243683380  5.018901e+11  "
      ]
     },
     "execution_count": 6,
     "metadata": {},
     "output_type": "execute_result"
    }
   ],
   "source": [
    "hs300.head(2)"
   ]
  },
  {
   "cell_type": "code",
   "execution_count": 7,
   "metadata": {},
   "outputs": [],
   "source": [
    "sp500 = pd.read_csv('../data/美国标准普尔500指数历史数据.csv')"
   ]
  },
  {
   "cell_type": "code",
   "execution_count": 8,
   "metadata": {},
   "outputs": [
    {
     "data": {
      "text/html": [
       "<div>\n",
       "<style scoped>\n",
       "    .dataframe tbody tr th:only-of-type {\n",
       "        vertical-align: middle;\n",
       "    }\n",
       "\n",
       "    .dataframe tbody tr th {\n",
       "        vertical-align: top;\n",
       "    }\n",
       "\n",
       "    .dataframe thead th {\n",
       "        text-align: right;\n",
       "    }\n",
       "</style>\n",
       "<table border=\"1\" class=\"dataframe\">\n",
       "  <thead>\n",
       "    <tr style=\"text-align: right;\">\n",
       "      <th></th>\n",
       "      <th>日期</th>\n",
       "      <th>收盘</th>\n",
       "      <th>开盘</th>\n",
       "      <th>高</th>\n",
       "      <th>低</th>\n",
       "      <th>交易量</th>\n",
       "      <th>涨跌幅</th>\n",
       "    </tr>\n",
       "  </thead>\n",
       "  <tbody>\n",
       "    <tr>\n",
       "      <th>0</th>\n",
       "      <td>2021年1月19日</td>\n",
       "      <td>3,790.18</td>\n",
       "      <td>3,796.00</td>\n",
       "      <td>3,799.63</td>\n",
       "      <td>3,782.39</td>\n",
       "      <td>-</td>\n",
       "      <td>0.58%</td>\n",
       "    </tr>\n",
       "    <tr>\n",
       "      <th>1</th>\n",
       "      <td>2021年1月15日</td>\n",
       "      <td>3,768.25</td>\n",
       "      <td>3,788.73</td>\n",
       "      <td>3,788.73</td>\n",
       "      <td>3,749.62</td>\n",
       "      <td>-</td>\n",
       "      <td>-0.72%</td>\n",
       "    </tr>\n",
       "  </tbody>\n",
       "</table>\n",
       "</div>"
      ],
      "text/plain": [
       "           日期        收盘        开盘         高         低 交易量     涨跌幅\n",
       "0  2021年1月19日  3,790.18  3,796.00  3,799.63  3,782.39   -   0.58%\n",
       "1  2021年1月15日  3,768.25  3,788.73  3,788.73  3,749.62   -  -0.72%"
      ]
     },
     "execution_count": 8,
     "metadata": {},
     "output_type": "execute_result"
    }
   ],
   "source": [
    "sp500.head(2)"
   ]
  },
  {
   "cell_type": "code",
   "execution_count": 9,
   "metadata": {},
   "outputs": [],
   "source": [
    "def to_time_str(date):\n",
    "    year_index = date.find('年')\n",
    "    month_index= date.find('月')\n",
    "    day_index = date.find('日')\n",
    "    # print(year_index, month_index, day_index)\n",
    "    year = int(date[0:year_index])\n",
    "    month = int(date[year_index+1:month_index])\n",
    "    day = int(date[month_index+1:day_index])\n",
    "    date = datetime.datetime(year, month, day).strftime('%Y-%m-%d')\n",
    "    return date\n",
    "\n",
    "sp500['date'] = sp500['日期'].apply(to_time_str)"
   ]
  },
  {
   "cell_type": "code",
   "execution_count": 10,
   "metadata": {},
   "outputs": [
    {
     "data": {
      "text/html": [
       "<div>\n",
       "<style scoped>\n",
       "    .dataframe tbody tr th:only-of-type {\n",
       "        vertical-align: middle;\n",
       "    }\n",
       "\n",
       "    .dataframe tbody tr th {\n",
       "        vertical-align: top;\n",
       "    }\n",
       "\n",
       "    .dataframe thead th {\n",
       "        text-align: right;\n",
       "    }\n",
       "</style>\n",
       "<table border=\"1\" class=\"dataframe\">\n",
       "  <thead>\n",
       "    <tr style=\"text-align: right;\">\n",
       "      <th></th>\n",
       "      <th>日期</th>\n",
       "      <th>收盘</th>\n",
       "      <th>开盘</th>\n",
       "      <th>高</th>\n",
       "      <th>低</th>\n",
       "      <th>交易量</th>\n",
       "      <th>涨跌幅</th>\n",
       "      <th>date</th>\n",
       "    </tr>\n",
       "  </thead>\n",
       "  <tbody>\n",
       "    <tr>\n",
       "      <th>0</th>\n",
       "      <td>2021年1月19日</td>\n",
       "      <td>3,790.18</td>\n",
       "      <td>3,796.00</td>\n",
       "      <td>3,799.63</td>\n",
       "      <td>3,782.39</td>\n",
       "      <td>-</td>\n",
       "      <td>0.58%</td>\n",
       "      <td>2021-01-19</td>\n",
       "    </tr>\n",
       "    <tr>\n",
       "      <th>1</th>\n",
       "      <td>2021年1月15日</td>\n",
       "      <td>3,768.25</td>\n",
       "      <td>3,788.73</td>\n",
       "      <td>3,788.73</td>\n",
       "      <td>3,749.62</td>\n",
       "      <td>-</td>\n",
       "      <td>-0.72%</td>\n",
       "      <td>2021-01-15</td>\n",
       "    </tr>\n",
       "  </tbody>\n",
       "</table>\n",
       "</div>"
      ],
      "text/plain": [
       "           日期        收盘        开盘         高         低 交易量     涨跌幅        date\n",
       "0  2021年1月19日  3,790.18  3,796.00  3,799.63  3,782.39   -   0.58%  2021-01-19\n",
       "1  2021年1月15日  3,768.25  3,788.73  3,788.73  3,749.62   -  -0.72%  2021-01-15"
      ]
     },
     "execution_count": 10,
     "metadata": {},
     "output_type": "execute_result"
    }
   ],
   "source": [
    "sp500.head(2)"
   ]
  },
  {
   "cell_type": "code",
   "execution_count": 11,
   "metadata": {},
   "outputs": [],
   "source": [
    "guozhai.set_index('日期', inplace=True)"
   ]
  },
  {
   "cell_type": "code",
   "execution_count": 12,
   "metadata": {},
   "outputs": [],
   "source": [
    "guozhai.sort_index(inplace=True)"
   ]
  },
  {
   "cell_type": "code",
   "execution_count": 13,
   "metadata": {},
   "outputs": [
    {
     "data": {
      "text/html": [
       "<div>\n",
       "<style scoped>\n",
       "    .dataframe tbody tr th:only-of-type {\n",
       "        vertical-align: middle;\n",
       "    }\n",
       "\n",
       "    .dataframe tbody tr th {\n",
       "        vertical-align: top;\n",
       "    }\n",
       "\n",
       "    .dataframe thead th {\n",
       "        text-align: right;\n",
       "    }\n",
       "</style>\n",
       "<table border=\"1\" class=\"dataframe\">\n",
       "  <thead>\n",
       "    <tr style=\"text-align: right;\">\n",
       "      <th></th>\n",
       "      <th>股票代码</th>\n",
       "      <th>名称</th>\n",
       "      <th>收盘价</th>\n",
       "      <th>最高价</th>\n",
       "      <th>最低价</th>\n",
       "      <th>开盘价</th>\n",
       "      <th>前收盘</th>\n",
       "      <th>涨跌额</th>\n",
       "      <th>涨跌幅</th>\n",
       "      <th>成交量</th>\n",
       "      <th>成交金额</th>\n",
       "    </tr>\n",
       "    <tr>\n",
       "      <th>日期</th>\n",
       "      <th></th>\n",
       "      <th></th>\n",
       "      <th></th>\n",
       "      <th></th>\n",
       "      <th></th>\n",
       "      <th></th>\n",
       "      <th></th>\n",
       "      <th></th>\n",
       "      <th></th>\n",
       "      <th></th>\n",
       "      <th></th>\n",
       "    </tr>\n",
       "  </thead>\n",
       "  <tbody>\n",
       "    <tr>\n",
       "      <th>2003-02-24</th>\n",
       "      <td>'000012</td>\n",
       "      <td>国债指数</td>\n",
       "      <td>100.668</td>\n",
       "      <td>100.676</td>\n",
       "      <td>100.635</td>\n",
       "      <td>100.672</td>\n",
       "      <td>100.64</td>\n",
       "      <td>0.024</td>\n",
       "      <td>0.0278</td>\n",
       "      <td>1612000</td>\n",
       "      <td>1.672104e+09</td>\n",
       "    </tr>\n",
       "  </tbody>\n",
       "</table>\n",
       "</div>"
      ],
      "text/plain": [
       "               股票代码    名称      收盘价      最高价      最低价      开盘价     前收盘    涨跌额  \\\n",
       "日期                                                                             \n",
       "2003-02-24  '000012  国债指数  100.668  100.676  100.635  100.672  100.64  0.024   \n",
       "\n",
       "               涨跌幅      成交量          成交金额  \n",
       "日期                                         \n",
       "2003-02-24  0.0278  1612000  1.672104e+09  "
      ]
     },
     "execution_count": 13,
     "metadata": {},
     "output_type": "execute_result"
    }
   ],
   "source": [
    "guozhai.head(1)"
   ]
  },
  {
   "cell_type": "code",
   "execution_count": 14,
   "metadata": {},
   "outputs": [
    {
     "data": {
      "text/html": [
       "<div>\n",
       "<style scoped>\n",
       "    .dataframe tbody tr th:only-of-type {\n",
       "        vertical-align: middle;\n",
       "    }\n",
       "\n",
       "    .dataframe tbody tr th {\n",
       "        vertical-align: top;\n",
       "    }\n",
       "\n",
       "    .dataframe thead th {\n",
       "        text-align: right;\n",
       "    }\n",
       "</style>\n",
       "<table border=\"1\" class=\"dataframe\">\n",
       "  <thead>\n",
       "    <tr style=\"text-align: right;\">\n",
       "      <th></th>\n",
       "      <th>股票代码</th>\n",
       "      <th>名称</th>\n",
       "      <th>收盘价</th>\n",
       "      <th>最高价</th>\n",
       "      <th>最低价</th>\n",
       "      <th>开盘价</th>\n",
       "      <th>前收盘</th>\n",
       "      <th>涨跌额</th>\n",
       "      <th>涨跌幅</th>\n",
       "      <th>成交量</th>\n",
       "      <th>成交金额</th>\n",
       "    </tr>\n",
       "    <tr>\n",
       "      <th>日期</th>\n",
       "      <th></th>\n",
       "      <th></th>\n",
       "      <th></th>\n",
       "      <th></th>\n",
       "      <th></th>\n",
       "      <th></th>\n",
       "      <th></th>\n",
       "      <th></th>\n",
       "      <th></th>\n",
       "      <th></th>\n",
       "      <th></th>\n",
       "    </tr>\n",
       "  </thead>\n",
       "  <tbody>\n",
       "    <tr>\n",
       "      <th>2002-01-04</th>\n",
       "      <td>'000300</td>\n",
       "      <td>沪深300</td>\n",
       "      <td>1316.46</td>\n",
       "      <td>1316.46</td>\n",
       "      <td>1316.46</td>\n",
       "      <td>1316.46</td>\n",
       "      <td>None</td>\n",
       "      <td>None</td>\n",
       "      <td>None</td>\n",
       "      <td>0</td>\n",
       "      <td>0.0</td>\n",
       "    </tr>\n",
       "  </tbody>\n",
       "</table>\n",
       "</div>"
      ],
      "text/plain": [
       "               股票代码     名称      收盘价      最高价      最低价      开盘价   前收盘   涨跌额  \\\n",
       "日期                                                                           \n",
       "2002-01-04  '000300  沪深300  1316.46  1316.46  1316.46  1316.46  None  None   \n",
       "\n",
       "             涨跌幅  成交量  成交金额  \n",
       "日期                           \n",
       "2002-01-04  None    0   0.0  "
      ]
     },
     "execution_count": 14,
     "metadata": {},
     "output_type": "execute_result"
    }
   ],
   "source": [
    "hs300.set_index('日期', inplace=True)\n",
    "hs300.sort_index(inplace=True)\n",
    "hs300.head(1)"
   ]
  },
  {
   "cell_type": "code",
   "execution_count": 15,
   "metadata": {},
   "outputs": [
    {
     "data": {
      "text/html": [
       "<div>\n",
       "<style scoped>\n",
       "    .dataframe tbody tr th:only-of-type {\n",
       "        vertical-align: middle;\n",
       "    }\n",
       "\n",
       "    .dataframe tbody tr th {\n",
       "        vertical-align: top;\n",
       "    }\n",
       "\n",
       "    .dataframe thead th {\n",
       "        text-align: right;\n",
       "    }\n",
       "</style>\n",
       "<table border=\"1\" class=\"dataframe\">\n",
       "  <thead>\n",
       "    <tr style=\"text-align: right;\">\n",
       "      <th></th>\n",
       "      <th>日期</th>\n",
       "      <th>收盘</th>\n",
       "      <th>开盘</th>\n",
       "      <th>高</th>\n",
       "      <th>低</th>\n",
       "      <th>交易量</th>\n",
       "      <th>涨跌幅</th>\n",
       "    </tr>\n",
       "    <tr>\n",
       "      <th>date</th>\n",
       "      <th></th>\n",
       "      <th></th>\n",
       "      <th></th>\n",
       "      <th></th>\n",
       "      <th></th>\n",
       "      <th></th>\n",
       "      <th></th>\n",
       "    </tr>\n",
       "  </thead>\n",
       "  <tbody>\n",
       "    <tr>\n",
       "      <th>2006-01-04</th>\n",
       "      <td>2006年1月4日</td>\n",
       "      <td>1,273.46</td>\n",
       "      <td>1,268.80</td>\n",
       "      <td>1,275.37</td>\n",
       "      <td>1,267.74</td>\n",
       "      <td>-</td>\n",
       "      <td>0.37%</td>\n",
       "    </tr>\n",
       "  </tbody>\n",
       "</table>\n",
       "</div>"
      ],
      "text/plain": [
       "                   日期        收盘        开盘         高         低 交易量    涨跌幅\n",
       "date                                                                    \n",
       "2006-01-04  2006年1月4日  1,273.46  1,268.80  1,275.37  1,267.74   -  0.37%"
      ]
     },
     "execution_count": 15,
     "metadata": {},
     "output_type": "execute_result"
    }
   ],
   "source": [
    "sp500 = sp500.set_index('date').sort_index()\n",
    "sp500.head(1)"
   ]
  },
  {
   "cell_type": "code",
   "execution_count": 16,
   "metadata": {},
   "outputs": [
    {
     "name": "stdout",
     "output_type": "stream",
     "text": [
      "0.035321878608422175\n",
      "0.10423436779013733\n",
      "0.338869792730343\n"
     ]
    }
   ],
   "source": [
    "print(get_annual_return(guozhai.收盘价.values))\n",
    "print(get_max_drawdown(guozhai.收盘价.values))\n",
    "print(get_mar(guozhai.收盘价.values))"
   ]
  },
  {
   "cell_type": "code",
   "execution_count": 17,
   "metadata": {},
   "outputs": [
    {
     "name": "stdout",
     "output_type": "stream",
     "text": [
      "0.0799947954016329\n",
      "0.723038445845489\n",
      "0.11063698737083136\n"
     ]
    }
   ],
   "source": [
    "print(get_annual_return(hs300.收盘价.values))\n",
    "print(get_max_drawdown(hs300.收盘价.values))\n",
    "print(get_mar(hs300.收盘价.values))"
   ]
  },
  {
   "cell_type": "code",
   "execution_count": 18,
   "metadata": {},
   "outputs": [
    {
     "name": "stdout",
     "output_type": "stream",
     "text": [
      "0.13991459046620824\n",
      "0.2222809780546966\n",
      "0.6294492299371632\n"
     ]
    }
   ],
   "source": [
    "def to_number(num):\n",
    "    return float(num.replace(',', ''))\n",
    "close = sp500.收盘[(sp500.index > '2009-01-31') & (sp500.index<'2017-11-31')].map(to_number).values\n",
    "print(get_annual_return(close))\n",
    "print(get_max_drawdown(close))\n",
    "print(get_mar(close))"
   ]
  },
  {
   "cell_type": "code",
   "execution_count": 19,
   "metadata": {},
   "outputs": [],
   "source": [
    "sp500['close'] = sp500.收盘.map(to_number)"
   ]
  },
  {
   "cell_type": "code",
   "execution_count": 20,
   "metadata": {},
   "outputs": [
    {
     "data": {
      "text/html": [
       "<div>\n",
       "<style scoped>\n",
       "    .dataframe tbody tr th:only-of-type {\n",
       "        vertical-align: middle;\n",
       "    }\n",
       "\n",
       "    .dataframe tbody tr th {\n",
       "        vertical-align: top;\n",
       "    }\n",
       "\n",
       "    .dataframe thead th {\n",
       "        text-align: right;\n",
       "    }\n",
       "</style>\n",
       "<table border=\"1\" class=\"dataframe\">\n",
       "  <thead>\n",
       "    <tr style=\"text-align: right;\">\n",
       "      <th></th>\n",
       "      <th>日期</th>\n",
       "      <th>收盘</th>\n",
       "      <th>开盘</th>\n",
       "      <th>高</th>\n",
       "      <th>低</th>\n",
       "      <th>交易量</th>\n",
       "      <th>涨跌幅</th>\n",
       "      <th>close</th>\n",
       "    </tr>\n",
       "    <tr>\n",
       "      <th>date</th>\n",
       "      <th></th>\n",
       "      <th></th>\n",
       "      <th></th>\n",
       "      <th></th>\n",
       "      <th></th>\n",
       "      <th></th>\n",
       "      <th></th>\n",
       "      <th></th>\n",
       "    </tr>\n",
       "  </thead>\n",
       "  <tbody>\n",
       "    <tr>\n",
       "      <th>2006-01-04</th>\n",
       "      <td>2006年1月4日</td>\n",
       "      <td>1,273.46</td>\n",
       "      <td>1,268.80</td>\n",
       "      <td>1,275.37</td>\n",
       "      <td>1,267.74</td>\n",
       "      <td>-</td>\n",
       "      <td>0.37%</td>\n",
       "      <td>1273.46</td>\n",
       "    </tr>\n",
       "  </tbody>\n",
       "</table>\n",
       "</div>"
      ],
      "text/plain": [
       "                   日期        收盘        开盘         高         低 交易量    涨跌幅  \\\n",
       "date                                                                       \n",
       "2006-01-04  2006年1月4日  1,273.46  1,268.80  1,275.37  1,267.74   -  0.37%   \n",
       "\n",
       "              close  \n",
       "date                 \n",
       "2006-01-04  1273.46  "
      ]
     },
     "execution_count": 20,
     "metadata": {},
     "output_type": "execute_result"
    }
   ],
   "source": [
    "sp500.head(1)"
   ]
  },
  {
   "cell_type": "code",
   "execution_count": 21,
   "metadata": {},
   "outputs": [],
   "source": [
    "total = pd.concat([guozhai.收盘价.rename('国债'), hs300.收盘价.rename('沪深300'), sp500.close.rename('标普500')], axis = 1)"
   ]
  },
  {
   "cell_type": "code",
   "execution_count": 22,
   "metadata": {},
   "outputs": [],
   "source": [
    "total.sort_index(inplace=True)"
   ]
  },
  {
   "cell_type": "code",
   "execution_count": 23,
   "metadata": {},
   "outputs": [
    {
     "data": {
      "text/html": [
       "<div>\n",
       "<style scoped>\n",
       "    .dataframe tbody tr th:only-of-type {\n",
       "        vertical-align: middle;\n",
       "    }\n",
       "\n",
       "    .dataframe tbody tr th {\n",
       "        vertical-align: top;\n",
       "    }\n",
       "\n",
       "    .dataframe thead th {\n",
       "        text-align: right;\n",
       "    }\n",
       "</style>\n",
       "<table border=\"1\" class=\"dataframe\">\n",
       "  <thead>\n",
       "    <tr style=\"text-align: right;\">\n",
       "      <th></th>\n",
       "      <th>国债</th>\n",
       "      <th>沪深300</th>\n",
       "      <th>标普500</th>\n",
       "    </tr>\n",
       "  </thead>\n",
       "  <tbody>\n",
       "    <tr>\n",
       "      <th>2021-01-12</th>\n",
       "      <td>184.1756</td>\n",
       "      <td>5596.3525</td>\n",
       "      <td>3801.19</td>\n",
       "    </tr>\n",
       "    <tr>\n",
       "      <th>2021-01-13</th>\n",
       "      <td>184.2425</td>\n",
       "      <td>5577.9711</td>\n",
       "      <td>3809.84</td>\n",
       "    </tr>\n",
       "    <tr>\n",
       "      <th>2021-01-14</th>\n",
       "      <td>184.2246</td>\n",
       "      <td>5470.4563</td>\n",
       "      <td>3795.54</td>\n",
       "    </tr>\n",
       "    <tr>\n",
       "      <th>2021-01-15</th>\n",
       "      <td>184.2401</td>\n",
       "      <td>5458.0812</td>\n",
       "      <td>3768.25</td>\n",
       "    </tr>\n",
       "    <tr>\n",
       "      <th>2021-01-19</th>\n",
       "      <td>NaN</td>\n",
       "      <td>NaN</td>\n",
       "      <td>3790.18</td>\n",
       "    </tr>\n",
       "  </tbody>\n",
       "</table>\n",
       "</div>"
      ],
      "text/plain": [
       "                  国债      沪深300    标普500\n",
       "2021-01-12  184.1756  5596.3525  3801.19\n",
       "2021-01-13  184.2425  5577.9711  3809.84\n",
       "2021-01-14  184.2246  5470.4563  3795.54\n",
       "2021-01-15  184.2401  5458.0812  3768.25\n",
       "2021-01-19       NaN        NaN  3790.18"
      ]
     },
     "execution_count": 23,
     "metadata": {},
     "output_type": "execute_result"
    }
   ],
   "source": [
    "total.tail()"
   ]
  },
  {
   "cell_type": "code",
   "execution_count": 24,
   "metadata": {},
   "outputs": [],
   "source": [
    "total = total.dropna()"
   ]
  },
  {
   "cell_type": "code",
   "execution_count": 25,
   "metadata": {},
   "outputs": [
    {
     "data": {
      "text/html": [
       "<div>\n",
       "<style scoped>\n",
       "    .dataframe tbody tr th:only-of-type {\n",
       "        vertical-align: middle;\n",
       "    }\n",
       "\n",
       "    .dataframe tbody tr th {\n",
       "        vertical-align: top;\n",
       "    }\n",
       "\n",
       "    .dataframe thead th {\n",
       "        text-align: right;\n",
       "    }\n",
       "</style>\n",
       "<table border=\"1\" class=\"dataframe\">\n",
       "  <thead>\n",
       "    <tr style=\"text-align: right;\">\n",
       "      <th></th>\n",
       "      <th>国债</th>\n",
       "      <th>沪深300</th>\n",
       "      <th>标普500</th>\n",
       "    </tr>\n",
       "  </thead>\n",
       "  <tbody>\n",
       "    <tr>\n",
       "      <th>2006-01-04</th>\n",
       "      <td>109.187</td>\n",
       "      <td>941.428</td>\n",
       "      <td>1273.46</td>\n",
       "    </tr>\n",
       "    <tr>\n",
       "      <th>2006-01-05</th>\n",
       "      <td>109.339</td>\n",
       "      <td>959.134</td>\n",
       "      <td>1273.48</td>\n",
       "    </tr>\n",
       "    <tr>\n",
       "      <th>2006-01-06</th>\n",
       "      <td>109.553</td>\n",
       "      <td>970.032</td>\n",
       "      <td>1285.45</td>\n",
       "    </tr>\n",
       "    <tr>\n",
       "      <th>2006-01-09</th>\n",
       "      <td>109.628</td>\n",
       "      <td>975.253</td>\n",
       "      <td>1290.15</td>\n",
       "    </tr>\n",
       "    <tr>\n",
       "      <th>2006-01-10</th>\n",
       "      <td>109.729</td>\n",
       "      <td>978.154</td>\n",
       "      <td>1289.69</td>\n",
       "    </tr>\n",
       "  </tbody>\n",
       "</table>\n",
       "</div>"
      ],
      "text/plain": [
       "                 国债    沪深300    标普500\n",
       "2006-01-04  109.187  941.428  1273.46\n",
       "2006-01-05  109.339  959.134  1273.48\n",
       "2006-01-06  109.553  970.032  1285.45\n",
       "2006-01-09  109.628  975.253  1290.15\n",
       "2006-01-10  109.729  978.154  1289.69"
      ]
     },
     "execution_count": 25,
     "metadata": {},
     "output_type": "execute_result"
    }
   ],
   "source": [
    "total.head()"
   ]
  },
  {
   "cell_type": "code",
   "execution_count": 26,
   "metadata": {},
   "outputs": [
    {
     "data": {
      "text/plain": [
       "array([<matplotlib.axes._subplots.AxesSubplot object at 0x0000017C11DC3CC0>,\n",
       "       <matplotlib.axes._subplots.AxesSubplot object at 0x0000017C1214DC88>,\n",
       "       <matplotlib.axes._subplots.AxesSubplot object at 0x0000017C14251240>],\n",
       "      dtype=object)"
      ]
     },
     "execution_count": 26,
     "metadata": {},
     "output_type": "execute_result"
    },
    {
     "data": {
      "image/png": "[encoded data removed]",
      "text/plain": [
       "<Figure size 432x288 with 3 Axes>"
      ]
     },
     "metadata": {
      "needs_background": "light"
     },
     "output_type": "display_data"
    }
   ],
   "source": [
    "total.plot(subplots=True)"
   ]
  },
  {
   "cell_type": "code",
   "execution_count": 28,
   "metadata": {},
   "outputs": [],
   "source": [
    "\n",
    "# 等权重部署 不调仓位\n",
    "s_pnl = np.array([])\n",
    "s_weight = np.array([1.0/3.0, 1.0/3.0, 1.0/3.0])\n",
    "\n",
    "for i in np.arange(0, total.shape[0]):\n",
    "    if i == 0:\n",
    "        s_pnl = np.append(s_pnl, 1)\n",
    "        continue\n",
    "    else:\n",
    "        y_md = total.values[i-1, ]\n",
    "        t_md = total.values[i, ]\n",
    "        t_return = t_md / y_md\n",
    "        \n",
    "        s_weight = s_weight * t_return\n",
    "        s_pnl = np.append(s_pnl, s_weight.sum())\n"
   ]
  },
  {
   "cell_type": "code",
   "execution_count": 29,
   "metadata": {},
   "outputs": [
    {
     "data": {
      "text/plain": [
       "[<matplotlib.lines.Line2D at 0x1272dfd8518>]"
      ]
     },
     "execution_count": 29,
     "metadata": {},
     "output_type": "execute_result"
    },
    {
     "data": {
      "image/png": "[encoded data removed]",
      "text/plain": [
       "<Figure size 432x288 with 1 Axes>"
      ]
     },
     "metadata": {
      "needs_background": "light"
     },
     "output_type": "display_data"
    }
   ],
   "source": [
    "plt.plot(s_pnl)"
   ]
  },
  {
   "cell_type": "code",
   "execution_count": 30,
   "metadata": {},
   "outputs": [
    {
     "name": "stdout",
     "output_type": "stream",
     "text": [
      "0.09217350458180218\n",
      "0.5850656832108341\n",
      "0.15754385742803267\n"
     ]
    }
   ],
   "source": [
    "print(get_annual_return(s_pnl))\n",
    "print(get_max_drawdown(s_pnl))\n",
    "print(get_mar(s_pnl))"
   ]
  },
  {
   "cell_type": "code",
   "execution_count": 33,
   "metadata": {},
   "outputs": [],
   "source": [
    "\n",
    "# 等权重部署 按月调仓\n",
    "s_pnl = np.array([])\n",
    "s_weight = np.array([1.0/3.0, 1.0/3.0, 1.0/3.0])\n",
    "\n",
    "def is_balance_day(today, yesterday):\n",
    "    today = get_datetime_from_str(today).month\n",
    "    yesterday = get_datetime_from_str(yesterday).month\n",
    "    if today != yesterday:\n",
    "        return True\n",
    "    \n",
    "    return False\n",
    "\n",
    "for i in np.arange(0, total.shape[0]):\n",
    "    if i == 0:\n",
    "        s_pnl = np.append(s_pnl, 1)\n",
    "        continue\n",
    "    else:\n",
    "        y_md = total.values[i-1, ]\n",
    "        t_md = total.values[i, ]\n",
    "        t_return = t_md / y_md\n",
    "        \n",
    "        s_weight = s_weight * t_return\n",
    "        s_pnl = np.append(s_pnl, s_weight.sum())\n",
    "    \n",
    "    yd = total.index[i-1]\n",
    "    td = total.index[i]\n",
    "    if is_balance_day(td, yd):\n",
    "        cur_pnl = s_pnl[-1]\n",
    "        s_weight = np.array([cur_pnl/3.0, cur_pnl/3.0, cur_pnl/3.0])"
   ]
  },
  {
   "cell_type": "code",
   "execution_count": 36,
   "metadata": {},
   "outputs": [
    {
     "data": {
      "text/plain": [
       "[<matplotlib.lines.Line2D at 0x1272e0e8160>]"
      ]
     },
     "execution_count": 36,
     "metadata": {},
     "output_type": "execute_result"
    },
    {
     "data": {
      "image/png": "[encoded data removed]",
      "text/plain": [
       "<Figure size 432x288 with 1 Axes>"
      ]
     },
     "metadata": {
      "needs_background": "light"
     },
     "output_type": "display_data"
    }
   ],
   "source": [
    "plt.plot(s_pnl)"
   ]
  },
  {
   "cell_type": "code",
   "execution_count": 37,
   "metadata": {},
   "outputs": [
    {
     "name": "stdout",
     "output_type": "stream",
     "text": [
      "0.09769276146682482\n",
      "0.42338663993734843\n",
      "0.23074124748310698\n"
     ]
    }
   ],
   "source": [
    "print(get_annual_return(s_pnl))\n",
    "print(get_max_drawdown(s_pnl))\n",
    "print(get_mar(s_pnl))"
   ]
  },
  {
   "cell_type": "code",
   "execution_count": 38,
   "metadata": {},
   "outputs": [
    {
     "ename": "ModuleNotFoundError",
     "evalue": "No module named 'helper'",
     "output_type": "error",
     "traceback": [
      "\u001b[1;31m---------------------------------------------------------------------------\u001b[0m",
      "\u001b[1;31mModuleNotFoundError\u001b[0m                       Traceback (most recent call last)",
      "\u001b[1;32m<ipython-input-38-9646e0b4041f>\u001b[0m in \u001b[0;36m<module>\u001b[1;34m()\u001b[0m\n\u001b[1;32m----> 1\u001b[1;33m \u001b[1;32mfrom\u001b[0m \u001b[0mportfolioHelper\u001b[0m \u001b[1;32mimport\u001b[0m \u001b[1;33m*\u001b[0m\u001b[1;33m\u001b[0m\u001b[0m\n\u001b[0m",
      "\u001b[1;32m~\\Desktop\\fund\\fund_study\\src\\portfolioHelper.py\u001b[0m in \u001b[0;36m<module>\u001b[1;34m()\u001b[0m\n\u001b[1;32m----> 1\u001b[1;33m \u001b[1;32mfrom\u001b[0m \u001b[0mhelper\u001b[0m \u001b[1;32mimport\u001b[0m \u001b[1;33m*\u001b[0m\u001b[1;33m\u001b[0m\u001b[0m\n\u001b[0m\u001b[0;32m      2\u001b[0m \u001b[1;33m\u001b[0m\u001b[0m\n\u001b[0;32m      3\u001b[0m \u001b[1;32mdef\u001b[0m \u001b[0mannualize_rets\u001b[0m\u001b[1;33m(\u001b[0m\u001b[0mr\u001b[0m\u001b[1;33m,\u001b[0m \u001b[0mperiods_per_year\u001b[0m\u001b[1;33m)\u001b[0m\u001b[1;33m:\u001b[0m\u001b[1;33m\u001b[0m\u001b[0m\n\u001b[0;32m      4\u001b[0m     \"\"\"\n\u001b[0;32m      5\u001b[0m     \u001b[0mAnnualizes\u001b[0m \u001b[0ma\u001b[0m \u001b[0mset\u001b[0m \u001b[0mof\u001b[0m \u001b[0mreturns\u001b[0m\u001b[1;33m\u001b[0m\u001b[0m\n",
      "\u001b[1;31mModuleNotFoundError\u001b[0m: No module named 'helper'"
     ]
    }
   ],
   "source": [
    "from portfolioHelper import *"
   ]
  },
  {
   "cell_type": "code",
   "execution_count": 27,
   "metadata": {},
   "outputs": [],
   "source": [
    "def calc_portfolio_risk_contribution(weights, covmat):\n",
    "    \"\"\"\n",
    "    Compute the contributions to risk of the constituents of a portfolio, given a set of portfolio weights and a covariance matrix\n",
    "    \"\"\"\n",
    "    total_portfolio_var = calc_portfolio_vol(weights, covmat)**2\n",
    "    # Marginal contribution of each constituent\n",
    "    marginal_contrib = covmat@weights\n",
    "    risk_contrib = np.multiply(marginal_contrib, weights.T)/total_portfolio_var\n",
    "    return risk_contrib\n",
    "\n",
    "def calc_target_risk_contributions_weights(target_risk, cov):\n",
    "    \"\"\"\n",
    "    Returns the weights of the portfolio that gives you the weights such\n",
    "    that the contributions to portfolio risk are as close as possible to\n",
    "    the target_risk, given the covariance matrix\n",
    "    \"\"\"\n",
    "    n = cov.shape[0]\n",
    "    init_guess = np.repeat(1/n, n)\n",
    "    bounds = ((0.0, 1.0),) * n # an N-tuple of 2-tuples!\n",
    "    # construct the constraints\n",
    "    weights_sum_to_1 = {'type': 'eq',\n",
    "                        'fun': lambda weights: np.sum(weights) - 1\n",
    "    }\n",
    "    def msd_risk(weights, target_risk, cov):\n",
    "        \"\"\"\n",
    "        Returns the Mean Squared Difference in risk contributions\n",
    "        between weights and target_risk\n",
    "        \"\"\"\n",
    "        w_contribs = calc_portfolio_risk_contribution(weights, cov)\n",
    "        return ((w_contribs-target_risk)**2).sum()\n",
    "    \n",
    "    weights = minimize(msd_risk, init_guess,\n",
    "                       args=(target_risk, cov), method='SLSQP',\n",
    "                       options={'disp': False},\n",
    "                       constraints=(weights_sum_to_1,),\n",
    "                       bounds=bounds)\n",
    "    return weights.x\n",
    "\n",
    "def calc_equal_risk_contributions_weights(cov):\n",
    "    \"\"\"\n",
    "    Returns the weights of the portfolio that equalizes the contributions\n",
    "    of the constituents based on the given covariance matrix\n",
    "    \"\"\"\n",
    "    n = cov.shape[0]\n",
    "    return calc_target_risk_contributions_weights(target_risk=np.repeat(1/n,n), cov=cov)"
   ]
  },
  {
   "cell_type": "code",
   "execution_count": 28,
   "metadata": {},
   "outputs": [],
   "source": [
    "def calc_portfolio_vol(weights, covmat):\n",
    "    \"\"\"\n",
    "    Computes the vol of a portfolio from a covariance matrix and constituent weights\n",
    "    weights are a numpy array or N x 1 maxtrix and covmat is an N x N matrix\n",
    "    \"\"\"\n",
    "    vol = (weights.T @ covmat @ weights)**0.5\n",
    "    return vol "
   ]
  },
  {
   "cell_type": "code",
   "execution_count": 29,
   "metadata": {},
   "outputs": [
    {
     "data": {
      "text/html": [
       "<div>\n",
       "<style scoped>\n",
       "    .dataframe tbody tr th:only-of-type {\n",
       "        vertical-align: middle;\n",
       "    }\n",
       "\n",
       "    .dataframe tbody tr th {\n",
       "        vertical-align: top;\n",
       "    }\n",
       "\n",
       "    .dataframe thead th {\n",
       "        text-align: right;\n",
       "    }\n",
       "</style>\n",
       "<table border=\"1\" class=\"dataframe\">\n",
       "  <thead>\n",
       "    <tr style=\"text-align: right;\">\n",
       "      <th></th>\n",
       "      <th>国债</th>\n",
       "      <th>沪深300</th>\n",
       "      <th>标普500</th>\n",
       "    </tr>\n",
       "  </thead>\n",
       "  <tbody>\n",
       "    <tr>\n",
       "      <th>国债</th>\n",
       "      <td>505.146395</td>\n",
       "      <td>9540.072657</td>\n",
       "      <td>14572.001162</td>\n",
       "    </tr>\n",
       "    <tr>\n",
       "      <th>沪深300</th>\n",
       "      <td>9540.072657</td>\n",
       "      <td>866018.794634</td>\n",
       "      <td>354744.088188</td>\n",
       "    </tr>\n",
       "    <tr>\n",
       "      <th>标普500</th>\n",
       "      <td>14572.001162</td>\n",
       "      <td>354744.088188</td>\n",
       "      <td>495423.472499</td>\n",
       "    </tr>\n",
       "  </tbody>\n",
       "</table>\n",
       "</div>"
      ],
      "text/plain": [
       "                 国债          沪深300          标普500\n",
       "国债       505.146395    9540.072657   14572.001162\n",
       "沪深300   9540.072657  866018.794634  354744.088188\n",
       "标普500  14572.001162  354744.088188  495423.472499"
      ]
     },
     "execution_count": 29,
     "metadata": {},
     "output_type": "execute_result"
    }
   ],
   "source": [
    "total.cov()"
   ]
  },
  {
   "cell_type": "code",
   "execution_count": 32,
   "metadata": {},
   "outputs": [
    {
     "data": {
      "text/plain": [
       "array([0.94501289, 0.02594474, 0.02904237])"
      ]
     },
     "execution_count": 32,
     "metadata": {},
     "output_type": "execute_result"
    }
   ],
   "source": [
    "calc_equal_risk_contributions_weights(total.cov().values)"
   ]
  },
  {
   "cell_type": "code",
   "execution_count": 31,
   "metadata": {},
   "outputs": [],
   "source": [
    "from scipy.optimize import minimize"
   ]
  },
  {
   "cell_type": "code",
   "execution_count": 72,
   "metadata": {},
   "outputs": [],
   "source": [
    "# 等权重部署 按月调仓\n",
    "s_pnl = np.array([])\n",
    "s_weight = np.array([1.0/3.0, 1.0/3.0, 1.0/3.0])\n",
    "\n",
    "def is_balance_day(today, yesterday):\n",
    "    today = get_datetime_from_str(today).month\n",
    "    yesterday = get_datetime_from_str(yesterday).month\n",
    "    if today != yesterday:\n",
    "        return True\n",
    "    \n",
    "    return False\n",
    "\n",
    "for i in np.arange(0, total.shape[0]):\n",
    "    if i == 0:\n",
    "        s_pnl = np.append(s_pnl, 1)\n",
    "        continue\n",
    "    else:\n",
    "        y_md = total.values[i-1, ]\n",
    "        t_md = total.values[i, ]\n",
    "        t_return = t_md / y_md\n",
    "        \n",
    "        s_weight = s_weight * t_return\n",
    "        s_pnl = np.append(s_pnl, s_weight.sum())\n",
    "    \n",
    "    yd = total.index[i-1]\n",
    "    td = total.index[i]\n",
    "    if is_balance_day(td, yd):\n",
    "        cur_pnl = s_pnl[-1]\n",
    "        if i > 40:\n",
    "            cov = total.iloc[i-35:i, ]\n",
    "            weight = calc_equal_risk_contributions_weights(cov.cov().values)\n",
    "            # print(weight)\n",
    "            s_weight = np.array([cur_pnl*weight[0], cur_pnl*weight[1], cur_pnl*weight[2]])"
   ]
  },
  {
   "cell_type": "code",
   "execution_count": 73,
   "metadata": {},
   "outputs": [
    {
     "data": {
      "text/plain": [
       "[<matplotlib.lines.Line2D at 0x1272e9c4ba8>]"
      ]
     },
     "execution_count": 73,
     "metadata": {},
     "output_type": "execute_result"
    },
    {
     "data": {
      "image/png": "[encoded data removed]",
      "text/plain": [
       "<Figure size 432x288 with 1 Axes>"
      ]
     },
     "metadata": {
      "needs_background": "light"
     },
     "output_type": "display_data"
    }
   ],
   "source": [
    "plt.plot(s_pnl)"
   ]
  },
  {
   "cell_type": "code",
   "execution_count": 74,
   "metadata": {},
   "outputs": [
    {
     "name": "stdout",
     "output_type": "stream",
     "text": [
      "0.09678643764520278\n",
      "0.40403342765123346\n",
      "0.23955056938692212\n"
     ]
    }
   ],
   "source": [
    "print(get_annual_return(s_pnl))\n",
    "print(get_max_drawdown(s_pnl))\n",
    "print(get_mar(s_pnl))"
   ]
  },
  {
   "cell_type": "code",
   "execution_count": 98,
   "metadata": {},
   "outputs": [
    {
     "name": "stdout",
     "output_type": "stream",
     "text": [
      "1.0\n",
      "0.801003687781925\n",
      "0.5317118416543432\n",
      "1.0623079769960073\n",
      "1.0601334373503217\n",
      "1.0660117808150626\n",
      "1.0767408612045095\n",
      "1.081149957269582\n",
      "1.08421272631289\n",
      "1.0831180333810366\n",
      "0.9429690267707804\n",
      "0.91812517245465\n",
      "1.1162789354476885\n",
      "0.3906660013649423\n",
      "0.37535177598737873\n",
      "1.2257220028295723\n",
      "0.8288292319412507\n",
      "0.3559271270663626\n",
      "0.41601649439651006\n",
      "1.3364336528026712\n",
      "0.34391723993380174\n",
      "0.8999157164893955\n",
      "1.290251867127739\n",
      "1.2496196751436222\n",
      "0.4504347562311764\n",
      "0.590063007407678\n",
      "0.6383035449091582\n",
      "0.6950561306421803\n",
      "1.2031944736544338\n",
      "0.694512201024088\n",
      "0.2712361325961643\n",
      "0.4457582007989608\n",
      "1.068192591380781\n",
      "0.3041924829442317\n",
      "0.5079591504211292\n",
      "0.6830193892042642\n",
      "0.407272954611366\n",
      "0.30479943158490436\n",
      "0.9555980086968366\n",
      "1.2867626585297351\n",
      "0.4706749811569614\n",
      "0.5992641508700928\n",
      "0.44751319741597473\n",
      "0.8376608320561075\n",
      "1.4219001425334263\n",
      "1.4230611934135011\n",
      "1.4266640590965405\n",
      "1.0665042950417196\n",
      "0.400891576802561\n",
      "1.4704753569195914\n",
      "0.37756054314149995\n",
      "0.4779047635719776\n",
      "1.1298105190779841\n",
      "1.1511995903962957\n",
      "1.458167443304793\n",
      "1.4551960431532243\n",
      "0.7851571831257275\n",
      "0.7647250327062809\n",
      "1.4989943368657603\n",
      "0.5059697483753363\n",
      "0.8213512682051993\n",
      "1.5940286485715132\n",
      "1.5979741151150983\n",
      "0.746129240050251\n",
      "0.5626734906123185\n",
      "1.5978747526467831\n",
      "0.4303351472772953\n",
      "0.6725409346956795\n",
      "1.080669694808767\n",
      "0.8537235528948306\n",
      "0.8543491076007667\n",
      "1.2145707771195846\n",
      "1.5614578866788784\n",
      "1.5661050519195954\n",
      "0.3980875748867835\n",
      "0.7359304277217947\n",
      "1.4563388089235763\n",
      "1.4609817016862343\n",
      "1.4651922137145759\n",
      "1.467980891954211\n",
      "1.4707284392123718\n",
      "0.4772500967317834\n",
      "0.46814750454801013\n",
      "1.4811686776980522\n",
      "1.60460292941513\n",
      "1.2794183926623828\n",
      "0.5110496980432083\n",
      "0.8691987497374336\n",
      "1.025570124412079\n",
      "1.6902344994821605\n",
      "0.607927300634352\n",
      "1.109084342108356\n",
      "1.7400967437813728\n",
      "1.7360218123828037\n",
      "1.7363980106849453\n",
      "1.7395870377040825\n",
      "1.7576732082385982\n",
      "0.47681419691602095\n",
      "0.5609088531689258\n",
      "1.7567558416132578\n",
      "1.763119871651206\n",
      "1.7703404629971262\n",
      "1.7807823869504251\n",
      "1.7918283814167595\n",
      "0.5226748151976817\n",
      "0.3933109290172889\n",
      "1.9413524614485067\n",
      "1.9541976691943101\n",
      "1.9617930862394994\n",
      "1.968998555010281\n",
      "1.9757014183060455\n",
      "1.980693311141533\n",
      "1.0578844392314137\n",
      "0.4973624911649837\n",
      "0.49864804153471953\n",
      "1.3060947697717178\n",
      "1.939509736006812\n",
      "1.9577781774106877\n",
      "0.4047088303601255\n",
      "0.5622908575664207\n",
      "1.3986695576405177\n",
      "1.903374821129863\n",
      "1.9090603002571513\n",
      "1.003597541343509\n",
      "0.9538778063464799\n",
      "1.9201429765486693\n",
      "1.9278647882846796\n",
      "1.9050447099382306\n",
      "0.624853763462469\n",
      "1.3851067676556954\n",
      "2.0119271729858865\n",
      "2.0164198178009993\n",
      "2.019555007721491\n",
      "2.0243499582527313\n",
      "2.0193693364737704\n",
      "1.6756138480112504\n",
      "2.0458572770700885\n",
      "2.0532173759480927\n",
      "1.2625753505162607\n",
      "1.2179334531713006\n",
      "2.094834197384553\n",
      "1.6203247470505797\n",
      "1.9343887756912015\n",
      "2.1513167111024307\n",
      "0.5937058404090927\n",
      "0.39497805632090816\n",
      "2.082980605640658\n",
      "2.0914306283920605\n",
      "0.6364073043806143\n",
      "2.1591045972603524\n",
      "2.1658665016356373\n",
      "2.1730012529623854\n",
      "1.0594880910488893\n",
      "0.6600371913534783\n",
      "1.0151620710050295\n",
      "1.1364155165108976\n",
      "2.185901529893092\n",
      "2.1873033217205133\n",
      "2.1929487055540964\n",
      "0.38523388220947646\n",
      "0.8115126640693168\n",
      "2.3761188892325666\n",
      "0.8186505617572115\n",
      "0.7080570529158696\n",
      "2.363235922043394\n",
      "2.377147559902361\n",
      "2.392473905558041\n",
      "2.4049033300112015\n",
      "0.1163018115125148\n",
      "0.3557882819571117\n",
      "2.0452479598626905\n",
      "2.0431326269955106\n",
      "0.30485271087429927\n",
      "0.6860237321985352\n",
      "2.255256297700166\n",
      "0.9509551796435549\n",
      "0.6544680668841387\n",
      "2.219411924088725\n"
     ]
    }
   ],
   "source": [
    "# 等权重部署 按月调仓\n",
    "\n",
    "total1 = total.copy()\n",
    "total1['cash'] = 1\n",
    "\n",
    "s_pnl = np.array([])\n",
    "s_weight = np.array([0, 0, 0, 1])\n",
    "\n",
    "def is_balance_day(today, yesterday):\n",
    "    today = get_datetime_from_str(today).month\n",
    "    yesterday = get_datetime_from_str(yesterday).month\n",
    "    if today != yesterday:\n",
    "        return True\n",
    "    \n",
    "    return False\n",
    "\n",
    "for i in np.arange(0, total.shape[0]):\n",
    "    if i == 0:\n",
    "        s_pnl = np.append(s_pnl, 1)\n",
    "        continue\n",
    "    else:\n",
    "        y_md = total1.values[i-1, ]\n",
    "        t_md = total1.values[i, ]\n",
    "        t_return = t_md / y_md\n",
    "        \n",
    "        s_weight = s_weight * t_return\n",
    "        s_pnl = np.append(s_pnl, s_weight.sum())\n",
    "    \n",
    "    yd = total1.index[i-1]\n",
    "    td = total1.index[i]\n",
    "    if is_balance_day(td, yd):\n",
    "        cur_pnl = s_pnl[-1]\n",
    "        if i > 40:\n",
    "            cov = total.iloc[i-35:i, 0:3]\n",
    "            weight = calc_equal_risk_contributions_weights(cov.cov().values)\n",
    "            \n",
    "            zuhe_weight = 1\n",
    "            s_std = np.std(s_pnl[i-35:i])\n",
    "            # print(s_std)\n",
    "            if np.abs(s_std) > 1e-6:\n",
    "                zuhe_weight = 0.01 / s_std\n",
    "                if zuhe_weight > 1.0:\n",
    "                    zuhe_weight = 1.0\n",
    "            zuhe_weight = zuhe_weight * cur_pnl\n",
    "            print(zuhe_weight)\n",
    "            # print(weight)\n",
    "            s_weight = np.array([zuhe_weight*weight[0], zuhe_weight*weight[1], zuhe_weight*weight[2], cur_pnl-zuhe_weight])"
   ]
  },
  {
   "cell_type": "code",
   "execution_count": 99,
   "metadata": {},
   "outputs": [
    {
     "data": {
      "text/plain": [
       "[<matplotlib.lines.Line2D at 0x1272fb6aef0>]"
      ]
     },
     "execution_count": 99,
     "metadata": {},
     "output_type": "execute_result"
    },
    {
     "data": {
      "image/png": "[encoded data removed]",
      "text/plain": [
       "<Figure size 432x288 with 1 Axes>"
      ]
     },
     "metadata": {
      "needs_background": "light"
     },
     "output_type": "display_data"
    }
   ],
   "source": [
    "plt.plot(s_pnl)"
   ]
  },
  {
   "cell_type": "code",
   "execution_count": 100,
   "metadata": {},
   "outputs": [
    {
     "name": "stdout",
     "output_type": "stream",
     "text": [
      "0.05813735538546805\n",
      "0.23058034200912514\n",
      "0.25213491696168655\n"
     ]
    }
   ],
   "source": [
    "print(get_annual_return(s_pnl))\n",
    "print(get_max_drawdown(s_pnl))\n",
    "print(get_mar(s_pnl))"
   ]
  },
  {
   "cell_type": "code",
   "execution_count": 102,
   "metadata": {},
   "outputs": [
    {
     "data": {
      "text/plain": [
       "array([<matplotlib.axes._subplots.AxesSubplot object at 0x000001272FD33E10>,\n",
       "       <matplotlib.axes._subplots.AxesSubplot object at 0x000001272FD95438>,\n",
       "       <matplotlib.axes._subplots.AxesSubplot object at 0x000001272FDBC9B0>,\n",
       "       <matplotlib.axes._subplots.AxesSubplot object at 0x000001272FDE4CF8>],\n",
       "      dtype=object)"
      ]
     },
     "execution_count": 102,
     "metadata": {},
     "output_type": "execute_result"
    },
    {
     "data": {
      "image/png": "[encoded data removed]",
      "text/plain": [
       "<Figure size 1152x648 with 4 Axes>"
      ]
     },
     "metadata": {
      "needs_background": "light"
     },
     "output_type": "display_data"
    }
   ],
   "source": [
    "total1.plot(subplots=True, figsize=(16, 9))"
   ]
  },
  {
   "cell_type": "code",
   "execution_count": 188,
   "metadata": {},
   "outputs": [],
   "source": [
    "# 等权重部署 按月调仓 控制组合年华波动率\n",
    "\n",
    "total2 = total.copy()\n",
    "total2['cash'] = 1\n",
    "\n",
    "s_pnl = np.array([])\n",
    "s_weight = np.array([1.0/3.0, 1.0/3.0, 1.0/3.0, 0])\n",
    "\n",
    "def is_balance_day(today, yesterday):\n",
    "    today = get_datetime_from_str(today).month\n",
    "    yesterday = get_datetime_from_str(yesterday).month\n",
    "    if today != yesterday:\n",
    "        return True\n",
    "    \n",
    "    return False\n",
    "\n",
    "for i in np.arange(0, total1.shape[0]):\n",
    "    if i == 0:\n",
    "        s_pnl = np.append(s_pnl, 1)\n",
    "        continue\n",
    "    else:\n",
    "        y_md = total1.values[i-1, ]\n",
    "        t_md = total1.values[i, ]\n",
    "        t_return = t_md / y_md\n",
    "        \n",
    "        s_weight = s_weight * t_return\n",
    "        s_pnl = np.append(s_pnl, s_weight.sum())\n",
    "    \n",
    "    yd = total.index[i-1]\n",
    "    td = total.index[i]\n",
    "    if is_balance_day(td, yd):\n",
    "        cur_pnl = s_pnl[-1]\n",
    "        \n",
    "        zuhe_weight = 1\n",
    "        if i > 45:\n",
    "            s_std = np.std(s_pnl[i-35:i])\n",
    "            year_vol = s_std * np.sqrt(250)\n",
    "            if np.abs(year_vol) > 1e-6:\n",
    "                zuhe_weight = 0.08 / year_vol\n",
    "            if zuhe_weight > 1.0:\n",
    "                zuhe_weight = 1.0\n",
    "        zuhe_weight = zuhe_weight * cur_pnl \n",
    "            \n",
    "        s_weight = np.array([zuhe_weight/3.0, zuhe_weight/3.0, zuhe_weight/3.0, cur_pnl - zuhe_weight])"
   ]
  },
  {
   "cell_type": "code",
   "execution_count": 189,
   "metadata": {},
   "outputs": [
    {
     "data": {
      "text/plain": [
       "[<matplotlib.lines.Line2D at 0x12735207438>]"
      ]
     },
     "execution_count": 189,
     "metadata": {},
     "output_type": "execute_result"
    },
    {
     "data": {
      "image/png": "[encoded data removed]",
      "text/plain": [
       "<Figure size 432x288 with 1 Axes>"
      ]
     },
     "metadata": {
      "needs_background": "light"
     },
     "output_type": "display_data"
    }
   ],
   "source": [
    "plt.plot(s_pnl)"
   ]
  },
  {
   "cell_type": "code",
   "execution_count": 190,
   "metadata": {},
   "outputs": [
    {
     "name": "stdout",
     "output_type": "stream",
     "text": [
      "0.0472483669082997\n",
      "0.18801907035289164\n",
      "0.25129560964012626\n"
     ]
    }
   ],
   "source": [
    "print(get_annual_return(s_pnl))\n",
    "print(get_max_drawdown(s_pnl))\n",
    "print(get_mar(s_pnl))"
   ]
  },
  {
   "cell_type": "code",
   "execution_count": 146,
   "metadata": {},
   "outputs": [
    {
     "data": {
      "text/html": [
       "<div>\n",
       "<style scoped>\n",
       "    .dataframe tbody tr th:only-of-type {\n",
       "        vertical-align: middle;\n",
       "    }\n",
       "\n",
       "    .dataframe tbody tr th {\n",
       "        vertical-align: top;\n",
       "    }\n",
       "\n",
       "    .dataframe thead th {\n",
       "        text-align: right;\n",
       "    }\n",
       "</style>\n",
       "<table border=\"1\" class=\"dataframe\">\n",
       "  <thead>\n",
       "    <tr style=\"text-align: right;\">\n",
       "      <th></th>\n",
       "      <th>国债</th>\n",
       "      <th>沪深300</th>\n",
       "      <th>标普500</th>\n",
       "      <th>cash</th>\n",
       "    </tr>\n",
       "  </thead>\n",
       "  <tbody>\n",
       "    <tr>\n",
       "      <th>2006-01-04</th>\n",
       "      <td>109.1870</td>\n",
       "      <td>941.4280</td>\n",
       "      <td>1273.46</td>\n",
       "      <td>1</td>\n",
       "    </tr>\n",
       "    <tr>\n",
       "      <th>2006-01-05</th>\n",
       "      <td>109.3390</td>\n",
       "      <td>959.1340</td>\n",
       "      <td>1273.48</td>\n",
       "      <td>1</td>\n",
       "    </tr>\n",
       "    <tr>\n",
       "      <th>2006-01-06</th>\n",
       "      <td>109.5530</td>\n",
       "      <td>970.0320</td>\n",
       "      <td>1285.45</td>\n",
       "      <td>1</td>\n",
       "    </tr>\n",
       "    <tr>\n",
       "      <th>2006-01-09</th>\n",
       "      <td>109.6280</td>\n",
       "      <td>975.2530</td>\n",
       "      <td>1290.15</td>\n",
       "      <td>1</td>\n",
       "    </tr>\n",
       "    <tr>\n",
       "      <th>2006-01-10</th>\n",
       "      <td>109.7290</td>\n",
       "      <td>978.1540</td>\n",
       "      <td>1289.69</td>\n",
       "      <td>1</td>\n",
       "    </tr>\n",
       "    <tr>\n",
       "      <th>...</th>\n",
       "      <td>...</td>\n",
       "      <td>...</td>\n",
       "      <td>...</td>\n",
       "      <td>...</td>\n",
       "    </tr>\n",
       "    <tr>\n",
       "      <th>2021-01-11</th>\n",
       "      <td>184.0559</td>\n",
       "      <td>5441.1583</td>\n",
       "      <td>3799.61</td>\n",
       "      <td>1</td>\n",
       "    </tr>\n",
       "    <tr>\n",
       "      <th>2021-01-12</th>\n",
       "      <td>184.1756</td>\n",
       "      <td>5596.3525</td>\n",
       "      <td>3801.19</td>\n",
       "      <td>1</td>\n",
       "    </tr>\n",
       "    <tr>\n",
       "      <th>2021-01-13</th>\n",
       "      <td>184.2425</td>\n",
       "      <td>5577.9711</td>\n",
       "      <td>3809.84</td>\n",
       "      <td>1</td>\n",
       "    </tr>\n",
       "    <tr>\n",
       "      <th>2021-01-14</th>\n",
       "      <td>184.2246</td>\n",
       "      <td>5470.4563</td>\n",
       "      <td>3795.54</td>\n",
       "      <td>1</td>\n",
       "    </tr>\n",
       "    <tr>\n",
       "      <th>2021-01-15</th>\n",
       "      <td>184.2401</td>\n",
       "      <td>5458.0812</td>\n",
       "      <td>3768.25</td>\n",
       "      <td>1</td>\n",
       "    </tr>\n",
       "  </tbody>\n",
       "</table>\n",
       "<p>3537 rows × 4 columns</p>\n",
       "</div>"
      ],
      "text/plain": [
       "                  国债      沪深300    标普500  cash\n",
       "2006-01-04  109.1870   941.4280  1273.46     1\n",
       "2006-01-05  109.3390   959.1340  1273.48     1\n",
       "2006-01-06  109.5530   970.0320  1285.45     1\n",
       "2006-01-09  109.6280   975.2530  1290.15     1\n",
       "2006-01-10  109.7290   978.1540  1289.69     1\n",
       "...              ...        ...      ...   ...\n",
       "2021-01-11  184.0559  5441.1583  3799.61     1\n",
       "2021-01-12  184.1756  5596.3525  3801.19     1\n",
       "2021-01-13  184.2425  5577.9711  3809.84     1\n",
       "2021-01-14  184.2246  5470.4563  3795.54     1\n",
       "2021-01-15  184.2401  5458.0812  3768.25     1\n",
       "\n",
       "[3537 rows x 4 columns]"
      ]
     },
     "execution_count": 146,
     "metadata": {},
     "output_type": "execute_result"
    }
   ],
   "source": []
  },
  {
   "cell_type": "code",
   "execution_count": 115,
   "metadata": {},
   "outputs": [],
   "source": [
    "ag = pd.read_csv('../data/600489.csv', encoding = 'gbk')"
   ]
  },
  {
   "cell_type": "code",
   "execution_count": 117,
   "metadata": {},
   "outputs": [],
   "source": [
    "ag = ag.set_index('日期').sort_index()"
   ]
  },
  {
   "cell_type": "code",
   "execution_count": 131,
   "metadata": {},
   "outputs": [],
   "source": [
    "for_assert = pd.concat([total.国债, total.沪深300, total.标普500, ag.收盘价.rename('黄金')], axis=1)"
   ]
  },
  {
   "cell_type": "code",
   "execution_count": 132,
   "metadata": {},
   "outputs": [],
   "source": [
    "four_assert = for_assert.sort_index()"
   ]
  },
  {
   "cell_type": "code",
   "execution_count": 137,
   "metadata": {},
   "outputs": [
    {
     "data": {
      "text/plain": [
       "array([<matplotlib.axes._subplots.AxesSubplot object at 0x00000127318682B0>,\n",
       "       <matplotlib.axes._subplots.AxesSubplot object at 0x0000012732045908>,\n",
       "       <matplotlib.axes._subplots.AxesSubplot object at 0x0000012731B5FE80>,\n",
       "       <matplotlib.axes._subplots.AxesSubplot object at 0x0000012731B8E438>],\n",
       "      dtype=object)"
      ]
     },
     "execution_count": 137,
     "metadata": {},
     "output_type": "execute_result"
    },
    {
     "data": {
      "image/png": "[encoded data removed]",
      "text/plain": [
       "<Figure size 1152x648 with 4 Axes>"
      ]
     },
     "metadata": {
      "needs_background": "light"
     },
     "output_type": "display_data"
    }
   ],
   "source": [
    "four_assert.plot(subplots=True, figsize=(16, 9))"
   ]
  },
  {
   "cell_type": "code",
   "execution_count": 134,
   "metadata": {},
   "outputs": [],
   "source": [
    "four_assert.黄金[four_assert.黄金 == 0] = np.nan"
   ]
  },
  {
   "cell_type": "code",
   "execution_count": 136,
   "metadata": {},
   "outputs": [],
   "source": [
    "four_assert.fillna(method='ffill', inplace=True)"
   ]
  },
  {
   "cell_type": "code",
   "execution_count": 138,
   "metadata": {},
   "outputs": [],
   "source": [
    "four_assert = four_assert.dropna()"
   ]
  },
  {
   "cell_type": "code",
   "execution_count": 140,
   "metadata": {},
   "outputs": [
    {
     "data": {
      "text/plain": [
       "array([<matplotlib.axes._subplots.AxesSubplot object at 0x00000127322806A0>,\n",
       "       <matplotlib.axes._subplots.AxesSubplot object at 0x00000127322AC6D8>,\n",
       "       <matplotlib.axes._subplots.AxesSubplot object at 0x00000127322D5B70>,\n",
       "       <matplotlib.axes._subplots.AxesSubplot object at 0x0000012732308128>],\n",
       "      dtype=object)"
      ]
     },
     "execution_count": 140,
     "metadata": {},
     "output_type": "execute_result"
    },
    {
     "data": {
      "image/png": "[encoded data removed]",
      "text/plain": [
       "<Figure size 1152x648 with 4 Axes>"
      ]
     },
     "metadata": {
      "needs_background": "light"
     },
     "output_type": "display_data"
    }
   ],
   "source": [
    "four_assert.plot(subplots=True, figsize=(16, 9))"
   ]
  },
  {
   "cell_type": "code",
   "execution_count": 160,
   "metadata": {},
   "outputs": [
    {
     "data": {
      "text/html": [
       "<div>\n",
       "<style scoped>\n",
       "    .dataframe tbody tr th:only-of-type {\n",
       "        vertical-align: middle;\n",
       "    }\n",
       "\n",
       "    .dataframe tbody tr th {\n",
       "        vertical-align: top;\n",
       "    }\n",
       "\n",
       "    .dataframe thead th {\n",
       "        text-align: right;\n",
       "    }\n",
       "</style>\n",
       "<table border=\"1\" class=\"dataframe\">\n",
       "  <thead>\n",
       "    <tr style=\"text-align: right;\">\n",
       "      <th></th>\n",
       "      <th>国债</th>\n",
       "      <th>沪深300</th>\n",
       "      <th>标普500</th>\n",
       "    </tr>\n",
       "  </thead>\n",
       "  <tbody>\n",
       "    <tr>\n",
       "      <th>2006-01-04</th>\n",
       "      <td>109.187</td>\n",
       "      <td>941.428</td>\n",
       "      <td>1273.46</td>\n",
       "    </tr>\n",
       "    <tr>\n",
       "      <th>2006-01-05</th>\n",
       "      <td>109.339</td>\n",
       "      <td>959.134</td>\n",
       "      <td>1273.48</td>\n",
       "    </tr>\n",
       "    <tr>\n",
       "      <th>2006-01-06</th>\n",
       "      <td>109.553</td>\n",
       "      <td>970.032</td>\n",
       "      <td>1285.45</td>\n",
       "    </tr>\n",
       "    <tr>\n",
       "      <th>2006-01-09</th>\n",
       "      <td>109.628</td>\n",
       "      <td>975.253</td>\n",
       "      <td>1290.15</td>\n",
       "    </tr>\n",
       "    <tr>\n",
       "      <th>2006-01-10</th>\n",
       "      <td>109.729</td>\n",
       "      <td>978.154</td>\n",
       "      <td>1289.69</td>\n",
       "    </tr>\n",
       "  </tbody>\n",
       "</table>\n",
       "</div>"
      ],
      "text/plain": [
       "                 国债    沪深300    标普500\n",
       "2006-01-04  109.187  941.428  1273.46\n",
       "2006-01-05  109.339  959.134  1273.48\n",
       "2006-01-06  109.553  970.032  1285.45\n",
       "2006-01-09  109.628  975.253  1290.15\n",
       "2006-01-10  109.729  978.154  1289.69"
      ]
     },
     "execution_count": 160,
     "metadata": {},
     "output_type": "execute_result"
    }
   ],
   "source": [
    "total.head()"
   ]
  },
  {
   "cell_type": "code",
   "execution_count": 35,
   "metadata": {},
   "outputs": [],
   "source": [
    "au = pd.read_csv('../data/黄金期货历史数据.csv')"
   ]
  },
  {
   "cell_type": "code",
   "execution_count": 36,
   "metadata": {},
   "outputs": [
    {
     "data": {
      "text/html": [
       "<div>\n",
       "<style scoped>\n",
       "    .dataframe tbody tr th:only-of-type {\n",
       "        vertical-align: middle;\n",
       "    }\n",
       "\n",
       "    .dataframe tbody tr th {\n",
       "        vertical-align: top;\n",
       "    }\n",
       "\n",
       "    .dataframe thead th {\n",
       "        text-align: right;\n",
       "    }\n",
       "</style>\n",
       "<table border=\"1\" class=\"dataframe\">\n",
       "  <thead>\n",
       "    <tr style=\"text-align: right;\">\n",
       "      <th></th>\n",
       "      <th>日期</th>\n",
       "      <th>收盘</th>\n",
       "      <th>开盘</th>\n",
       "      <th>高</th>\n",
       "      <th>低</th>\n",
       "      <th>交易量</th>\n",
       "      <th>涨跌幅</th>\n",
       "    </tr>\n",
       "  </thead>\n",
       "  <tbody>\n",
       "    <tr>\n",
       "      <th>0</th>\n",
       "      <td>2020年7月27日</td>\n",
       "      <td>1,955.40</td>\n",
       "      <td>1,929.00</td>\n",
       "      <td>1,971.30</td>\n",
       "      <td>1,926.80</td>\n",
       "      <td>137.85K</td>\n",
       "      <td>1.57%</td>\n",
       "    </tr>\n",
       "    <tr>\n",
       "      <th>1</th>\n",
       "      <td>2020年7月24日</td>\n",
       "      <td>1,925.20</td>\n",
       "      <td>1,912.30</td>\n",
       "      <td>1,933.60</td>\n",
       "      <td>1,908.00</td>\n",
       "      <td>66.45K</td>\n",
       "      <td>0.41%</td>\n",
       "    </tr>\n",
       "    <tr>\n",
       "      <th>2</th>\n",
       "      <td>2020年7月23日</td>\n",
       "      <td>1,917.40</td>\n",
       "      <td>1,900.00</td>\n",
       "      <td>1,927.10</td>\n",
       "      <td>1,890.40</td>\n",
       "      <td>72.36K</td>\n",
       "      <td>1.31%</td>\n",
       "    </tr>\n",
       "    <tr>\n",
       "      <th>3</th>\n",
       "      <td>2020年7月22日</td>\n",
       "      <td>1,892.60</td>\n",
       "      <td>1,867.80</td>\n",
       "      <td>1,899.00</td>\n",
       "      <td>1,867.80</td>\n",
       "      <td>49.86K</td>\n",
       "      <td>1.23%</td>\n",
       "    </tr>\n",
       "    <tr>\n",
       "      <th>4</th>\n",
       "      <td>2020年7月21日</td>\n",
       "      <td>1,869.60</td>\n",
       "      <td>1,842.50</td>\n",
       "      <td>1,870.50</td>\n",
       "      <td>1,839.90</td>\n",
       "      <td>31.69K</td>\n",
       "      <td>1.60%</td>\n",
       "    </tr>\n",
       "  </tbody>\n",
       "</table>\n",
       "</div>"
      ],
      "text/plain": [
       "           日期        收盘        开盘         高         低      交易量    涨跌幅\n",
       "0  2020年7月27日  1,955.40  1,929.00  1,971.30  1,926.80  137.85K  1.57%\n",
       "1  2020年7月24日  1,925.20  1,912.30  1,933.60  1,908.00   66.45K  0.41%\n",
       "2  2020年7月23日  1,917.40  1,900.00  1,927.10  1,890.40   72.36K  1.31%\n",
       "3  2020年7月22日  1,892.60  1,867.80  1,899.00  1,867.80   49.86K  1.23%\n",
       "4  2020年7月21日  1,869.60  1,842.50  1,870.50  1,839.90   31.69K  1.60%"
      ]
     },
     "execution_count": 36,
     "metadata": {},
     "output_type": "execute_result"
    }
   ],
   "source": [
    "au.head()"
   ]
  },
  {
   "cell_type": "code",
   "execution_count": 37,
   "metadata": {},
   "outputs": [],
   "source": [
    "au['date'] = au.日期.apply(to_time_str)"
   ]
  },
  {
   "cell_type": "code",
   "execution_count": 38,
   "metadata": {},
   "outputs": [],
   "source": [
    "au['close'] = au.收盘.apply(to_number)"
   ]
  },
  {
   "cell_type": "code",
   "execution_count": 39,
   "metadata": {},
   "outputs": [
    {
     "data": {
      "text/html": [
       "<div>\n",
       "<style scoped>\n",
       "    .dataframe tbody tr th:only-of-type {\n",
       "        vertical-align: middle;\n",
       "    }\n",
       "\n",
       "    .dataframe tbody tr th {\n",
       "        vertical-align: top;\n",
       "    }\n",
       "\n",
       "    .dataframe thead th {\n",
       "        text-align: right;\n",
       "    }\n",
       "</style>\n",
       "<table border=\"1\" class=\"dataframe\">\n",
       "  <thead>\n",
       "    <tr style=\"text-align: right;\">\n",
       "      <th></th>\n",
       "      <th>日期</th>\n",
       "      <th>收盘</th>\n",
       "      <th>开盘</th>\n",
       "      <th>高</th>\n",
       "      <th>低</th>\n",
       "      <th>交易量</th>\n",
       "      <th>涨跌幅</th>\n",
       "      <th>date</th>\n",
       "      <th>close</th>\n",
       "    </tr>\n",
       "  </thead>\n",
       "  <tbody>\n",
       "    <tr>\n",
       "      <th>0</th>\n",
       "      <td>2020年7月27日</td>\n",
       "      <td>1,955.40</td>\n",
       "      <td>1,929.00</td>\n",
       "      <td>1,971.30</td>\n",
       "      <td>1,926.80</td>\n",
       "      <td>137.85K</td>\n",
       "      <td>1.57%</td>\n",
       "      <td>2020-07-27</td>\n",
       "      <td>1955.4</td>\n",
       "    </tr>\n",
       "    <tr>\n",
       "      <th>1</th>\n",
       "      <td>2020年7月24日</td>\n",
       "      <td>1,925.20</td>\n",
       "      <td>1,912.30</td>\n",
       "      <td>1,933.60</td>\n",
       "      <td>1,908.00</td>\n",
       "      <td>66.45K</td>\n",
       "      <td>0.41%</td>\n",
       "      <td>2020-07-24</td>\n",
       "      <td>1925.2</td>\n",
       "    </tr>\n",
       "    <tr>\n",
       "      <th>2</th>\n",
       "      <td>2020年7月23日</td>\n",
       "      <td>1,917.40</td>\n",
       "      <td>1,900.00</td>\n",
       "      <td>1,927.10</td>\n",
       "      <td>1,890.40</td>\n",
       "      <td>72.36K</td>\n",
       "      <td>1.31%</td>\n",
       "      <td>2020-07-23</td>\n",
       "      <td>1917.4</td>\n",
       "    </tr>\n",
       "    <tr>\n",
       "      <th>3</th>\n",
       "      <td>2020年7月22日</td>\n",
       "      <td>1,892.60</td>\n",
       "      <td>1,867.80</td>\n",
       "      <td>1,899.00</td>\n",
       "      <td>1,867.80</td>\n",
       "      <td>49.86K</td>\n",
       "      <td>1.23%</td>\n",
       "      <td>2020-07-22</td>\n",
       "      <td>1892.6</td>\n",
       "    </tr>\n",
       "    <tr>\n",
       "      <th>4</th>\n",
       "      <td>2020年7月21日</td>\n",
       "      <td>1,869.60</td>\n",
       "      <td>1,842.50</td>\n",
       "      <td>1,870.50</td>\n",
       "      <td>1,839.90</td>\n",
       "      <td>31.69K</td>\n",
       "      <td>1.60%</td>\n",
       "      <td>2020-07-21</td>\n",
       "      <td>1869.6</td>\n",
       "    </tr>\n",
       "  </tbody>\n",
       "</table>\n",
       "</div>"
      ],
      "text/plain": [
       "           日期        收盘        开盘         高         低      交易量    涨跌幅  \\\n",
       "0  2020年7月27日  1,955.40  1,929.00  1,971.30  1,926.80  137.85K  1.57%   \n",
       "1  2020年7月24日  1,925.20  1,912.30  1,933.60  1,908.00   66.45K  0.41%   \n",
       "2  2020年7月23日  1,917.40  1,900.00  1,927.10  1,890.40   72.36K  1.31%   \n",
       "3  2020年7月22日  1,892.60  1,867.80  1,899.00  1,867.80   49.86K  1.23%   \n",
       "4  2020年7月21日  1,869.60  1,842.50  1,870.50  1,839.90   31.69K  1.60%   \n",
       "\n",
       "         date   close  \n",
       "0  2020-07-27  1955.4  \n",
       "1  2020-07-24  1925.2  \n",
       "2  2020-07-23  1917.4  \n",
       "3  2020-07-22  1892.6  \n",
       "4  2020-07-21  1869.6  "
      ]
     },
     "execution_count": 39,
     "metadata": {},
     "output_type": "execute_result"
    }
   ],
   "source": [
    "au.head()"
   ]
  },
  {
   "cell_type": "code",
   "execution_count": 40,
   "metadata": {},
   "outputs": [],
   "source": [
    "au = au.set_index('date')"
   ]
  },
  {
   "cell_type": "code",
   "execution_count": 41,
   "metadata": {},
   "outputs": [
    {
     "data": {
      "text/html": [
       "<div>\n",
       "<style scoped>\n",
       "    .dataframe tbody tr th:only-of-type {\n",
       "        vertical-align: middle;\n",
       "    }\n",
       "\n",
       "    .dataframe tbody tr th {\n",
       "        vertical-align: top;\n",
       "    }\n",
       "\n",
       "    .dataframe thead th {\n",
       "        text-align: right;\n",
       "    }\n",
       "</style>\n",
       "<table border=\"1\" class=\"dataframe\">\n",
       "  <thead>\n",
       "    <tr style=\"text-align: right;\">\n",
       "      <th></th>\n",
       "      <th>日期</th>\n",
       "      <th>收盘</th>\n",
       "      <th>开盘</th>\n",
       "      <th>高</th>\n",
       "      <th>低</th>\n",
       "      <th>交易量</th>\n",
       "      <th>涨跌幅</th>\n",
       "      <th>close</th>\n",
       "    </tr>\n",
       "    <tr>\n",
       "      <th>date</th>\n",
       "      <th></th>\n",
       "      <th></th>\n",
       "      <th></th>\n",
       "      <th></th>\n",
       "      <th></th>\n",
       "      <th></th>\n",
       "      <th></th>\n",
       "      <th></th>\n",
       "    </tr>\n",
       "  </thead>\n",
       "  <tbody>\n",
       "    <tr>\n",
       "      <th>2020-07-27</th>\n",
       "      <td>2020年7月27日</td>\n",
       "      <td>1,955.40</td>\n",
       "      <td>1,929.00</td>\n",
       "      <td>1,971.30</td>\n",
       "      <td>1,926.80</td>\n",
       "      <td>137.85K</td>\n",
       "      <td>1.57%</td>\n",
       "      <td>1955.4</td>\n",
       "    </tr>\n",
       "    <tr>\n",
       "      <th>2020-07-24</th>\n",
       "      <td>2020年7月24日</td>\n",
       "      <td>1,925.20</td>\n",
       "      <td>1,912.30</td>\n",
       "      <td>1,933.60</td>\n",
       "      <td>1,908.00</td>\n",
       "      <td>66.45K</td>\n",
       "      <td>0.41%</td>\n",
       "      <td>1925.2</td>\n",
       "    </tr>\n",
       "    <tr>\n",
       "      <th>2020-07-23</th>\n",
       "      <td>2020年7月23日</td>\n",
       "      <td>1,917.40</td>\n",
       "      <td>1,900.00</td>\n",
       "      <td>1,927.10</td>\n",
       "      <td>1,890.40</td>\n",
       "      <td>72.36K</td>\n",
       "      <td>1.31%</td>\n",
       "      <td>1917.4</td>\n",
       "    </tr>\n",
       "    <tr>\n",
       "      <th>2020-07-22</th>\n",
       "      <td>2020年7月22日</td>\n",
       "      <td>1,892.60</td>\n",
       "      <td>1,867.80</td>\n",
       "      <td>1,899.00</td>\n",
       "      <td>1,867.80</td>\n",
       "      <td>49.86K</td>\n",
       "      <td>1.23%</td>\n",
       "      <td>1892.6</td>\n",
       "    </tr>\n",
       "    <tr>\n",
       "      <th>2020-07-21</th>\n",
       "      <td>2020年7月21日</td>\n",
       "      <td>1,869.60</td>\n",
       "      <td>1,842.50</td>\n",
       "      <td>1,870.50</td>\n",
       "      <td>1,839.90</td>\n",
       "      <td>31.69K</td>\n",
       "      <td>1.60%</td>\n",
       "      <td>1869.6</td>\n",
       "    </tr>\n",
       "  </tbody>\n",
       "</table>\n",
       "</div>"
      ],
      "text/plain": [
       "                    日期        收盘        开盘         高         低      交易量  \\\n",
       "date                                                                      \n",
       "2020-07-27  2020年7月27日  1,955.40  1,929.00  1,971.30  1,926.80  137.85K   \n",
       "2020-07-24  2020年7月24日  1,925.20  1,912.30  1,933.60  1,908.00   66.45K   \n",
       "2020-07-23  2020年7月23日  1,917.40  1,900.00  1,927.10  1,890.40   72.36K   \n",
       "2020-07-22  2020年7月22日  1,892.60  1,867.80  1,899.00  1,867.80   49.86K   \n",
       "2020-07-21  2020年7月21日  1,869.60  1,842.50  1,870.50  1,839.90   31.69K   \n",
       "\n",
       "              涨跌幅   close  \n",
       "date                       \n",
       "2020-07-27  1.57%  1955.4  \n",
       "2020-07-24  0.41%  1925.2  \n",
       "2020-07-23  1.31%  1917.4  \n",
       "2020-07-22  1.23%  1892.6  \n",
       "2020-07-21  1.60%  1869.6  "
      ]
     },
     "execution_count": 41,
     "metadata": {},
     "output_type": "execute_result"
    }
   ],
   "source": [
    "au.head()"
   ]
  },
  {
   "cell_type": "code",
   "execution_count": 42,
   "metadata": {},
   "outputs": [],
   "source": [
    "four_assert = pd.concat([total.国债, total.沪深300, total.标普500, au.close.rename('黄金')], axis=1)"
   ]
  },
  {
   "cell_type": "code",
   "execution_count": 43,
   "metadata": {},
   "outputs": [],
   "source": [
    "four_assert = four_assert.sort_index()"
   ]
  },
  {
   "cell_type": "code",
   "execution_count": 44,
   "metadata": {},
   "outputs": [],
   "source": [
    "four_assert = four_assert.dropna()"
   ]
  },
  {
   "cell_type": "code",
   "execution_count": 45,
   "metadata": {},
   "outputs": [
    {
     "data": {
      "text/plain": [
       "array([<matplotlib.axes._subplots.AxesSubplot object at 0x0000017C15C3BCC0>,\n",
       "       <matplotlib.axes._subplots.AxesSubplot object at 0x0000017C15A28668>,\n",
       "       <matplotlib.axes._subplots.AxesSubplot object at 0x0000017C15A33BA8>,\n",
       "       <matplotlib.axes._subplots.AxesSubplot object at 0x0000017C15A65160>],\n",
       "      dtype=object)"
      ]
     },
     "execution_count": 45,
     "metadata": {},
     "output_type": "execute_result"
    },
    {
     "data": {
      "image/png": "[encoded data removed]",
      "text/plain": [
       "<Figure size 1152x648 with 4 Axes>"
      ]
     },
     "metadata": {
      "needs_background": "light"
     },
     "output_type": "display_data"
    }
   ],
   "source": [
    "four_assert.plot(subplots=True, figsize=(16, 9))"
   ]
  },
  {
   "cell_type": "code",
   "execution_count": 46,
   "metadata": {},
   "outputs": [],
   "source": [
    "# 等权重部署 按月调仓 控制组合年华波动率\n",
    "\n",
    "total2 = four_assert.copy()\n",
    "total2['cash'] = 1\n",
    "\n",
    "s_pnl = np.array([])\n",
    "s_weight = np.array([1.0/4.0, 1.0/4.0, 1.0/4.0, 1.0/4.0, 0])\n",
    "\n",
    "def is_balance_day(today, yesterday):\n",
    "    today = get_datetime_from_str(today).month\n",
    "    yesterday = get_datetime_from_str(yesterday).month\n",
    "    if today != yesterday:\n",
    "        return True\n",
    "    \n",
    "    return False\n",
    "\n",
    "for i in np.arange(0, total2.shape[0]):\n",
    "    if i == 0:\n",
    "        s_pnl = np.append(s_pnl, 1)\n",
    "        continue\n",
    "    else:\n",
    "        y_md = total2.values[i-1, ]\n",
    "        t_md = total2.values[i, ]\n",
    "        t_return = t_md / y_md\n",
    "        \n",
    "        s_weight = s_weight * t_return\n",
    "        s_pnl = np.append(s_pnl, s_weight.sum())\n",
    "    \n",
    "    yd = total2.index[i-1]\n",
    "    td = total2.index[i]\n",
    "    if is_balance_day(td, yd):\n",
    "        cur_pnl = s_pnl[-1]\n",
    "        \n",
    "        zuhe_weight = 1\n",
    "        if i > 45:\n",
    "            s_std = np.std(s_pnl[i-35:i])\n",
    "            year_vol = s_std * np.sqrt(250)\n",
    "            if np.abs(year_vol) > 1e-6:\n",
    "                zuhe_weight = 0.08 / year_vol\n",
    "            if zuhe_weight > 1.0:\n",
    "                zuhe_weight = 1.0\n",
    "        zuhe_weight = zuhe_weight * cur_pnl \n",
    "            \n",
    "        s_weight = np.array([zuhe_weight/4.0, zuhe_weight/4.0, zuhe_weight/4.0, zuhe_weight/4.0, cur_pnl-zuhe_weight])"
   ]
  },
  {
   "cell_type": "code",
   "execution_count": 195,
   "metadata": {},
   "outputs": [
    {
     "data": {
      "text/plain": [
       "[<matplotlib.lines.Line2D at 0x127352ca320>]"
      ]
     },
     "execution_count": 195,
     "metadata": {},
     "output_type": "execute_result"
    },
    {
     "data": {
      "image/png": "[encoded data removed]",
      "text/plain": [
       "<Figure size 432x288 with 1 Axes>"
      ]
     },
     "metadata": {
      "needs_background": "light"
     },
     "output_type": "display_data"
    }
   ],
   "source": [
    "plt.plot(s_pnl)"
   ]
  },
  {
   "cell_type": "code",
   "execution_count": 196,
   "metadata": {},
   "outputs": [
    {
     "name": "stdout",
     "output_type": "stream",
     "text": [
      "0.04116765138836498\n",
      "0.1905721261344736\n",
      "0.216021367990174\n"
     ]
    }
   ],
   "source": [
    "print(get_annual_return(s_pnl))\n",
    "print(get_max_drawdown(s_pnl))\n",
    "print(get_mar(s_pnl))"
   ]
  },
  {
   "cell_type": "code",
   "execution_count": 47,
   "metadata": {},
   "outputs": [],
   "source": [
    "def is_balance_day(today, yesterday):\n",
    "    today = get_datetime_from_str(today).month\n",
    "    yesterday = get_datetime_from_str(yesterday).month\n",
    "    if today != yesterday:\n",
    "        return True\n",
    "    \n",
    "    return False\n",
    "\n",
    "def equal_weight_strategy(data:pd.DataFrame, target_year_vol = 0.08):\n",
    "    row, col = data.shape\n",
    "    data1 = data.copy()\n",
    "    data1['cash'] = 1\n",
    "    \n",
    "    s_pnl = np.array([])\n",
    "    s_weight = np.array([1.0/col] * col)\n",
    "    s_weight = np.append(s_weight, 0)\n",
    "    \n",
    "    for i in np.arange(row):\n",
    "        if i == 0:\n",
    "            s_pnl = np.append(s_pnl, 1)\n",
    "            continue\n",
    "        else:\n",
    "            y_md = data1.values[i-1, ]\n",
    "            t_md = data1.values[i, ]\n",
    "            \n",
    "            simple_return = t_md / y_md\n",
    "            \n",
    "            s_weight = s_weight * simple_return\n",
    "            s_pnl = np.append(s_pnl, s_weight.sum())\n",
    "        \n",
    "        yd = data1.index[i-1]\n",
    "        td = data1.index[i]\n",
    "        if is_balance_day(td, yd):\n",
    "            cur_pnl = s_pnl[-1]\n",
    "            \n",
    "            zuhe_weight = 1\n",
    "            if i > 45:\n",
    "                s_std = np.std(s_pnl[i-35:i])\n",
    "                year_vol = s_std * np.sqrt(250)\n",
    "                if np.abs(year_vol) > 1e-6:\n",
    "                    zuhe_weight = target_year_vol / year_vol\n",
    "                if zuhe_weight > 1.0:\n",
    "                    zuhe_weight = 1.0\n",
    "            zuhe_weight = zuhe_weight * cur_pnl\n",
    "            \n",
    "            s_weight = np.array([zuhe_weight / col] * col)\n",
    "            s_weight = np.append(s_weight, cur_pnl - zuhe_weight)\n",
    "    return s_pnl"
   ]
  },
  {
   "cell_type": "code",
   "execution_count": 48,
   "metadata": {},
   "outputs": [],
   "source": [
    "s_pnl = equal_weight_strategy(four_assert)"
   ]
  },
  {
   "cell_type": "code",
   "execution_count": 49,
   "metadata": {},
   "outputs": [
    {
     "data": {
      "text/plain": [
       "[<matplotlib.lines.Line2D at 0x17c15e05c50>]"
      ]
     },
     "execution_count": 49,
     "metadata": {},
     "output_type": "execute_result"
    },
    {
     "data": {
      "image/png": "[encoded data removed]",
      "text/plain": [
       "<Figure size 432x288 with 1 Axes>"
      ]
     },
     "metadata": {
      "needs_background": "light"
     },
     "output_type": "display_data"
    }
   ],
   "source": [
    "plt.plot(s_pnl)"
   ]
  },
  {
   "cell_type": "code",
   "execution_count": 50,
   "metadata": {},
   "outputs": [
    {
     "name": "stdout",
     "output_type": "stream",
     "text": [
      "0.04116765138836498\n",
      "0.1905721261344736\n",
      "0.216021367990174\n"
     ]
    }
   ],
   "source": [
    "print(get_annual_return(s_pnl))\n",
    "print(get_max_drawdown(s_pnl))\n",
    "print(get_mar(s_pnl))"
   ]
  },
  {
   "cell_type": "code",
   "execution_count": 51,
   "metadata": {},
   "outputs": [],
   "source": [
    "s_pnl = equal_weight_strategy(total)"
   ]
  },
  {
   "cell_type": "code",
   "execution_count": 52,
   "metadata": {},
   "outputs": [
    {
     "data": {
      "text/plain": [
       "[<matplotlib.lines.Line2D at 0x17c15e709b0>]"
      ]
     },
     "execution_count": 52,
     "metadata": {},
     "output_type": "execute_result"
    },
    {
     "data": {
      "image/png": "[encoded data removed]",
      "text/plain": [
       "<Figure size 432x288 with 1 Axes>"
      ]
     },
     "metadata": {
      "needs_background": "light"
     },
     "output_type": "display_data"
    }
   ],
   "source": [
    "plt.plot(s_pnl)"
   ]
  },
  {
   "cell_type": "code",
   "execution_count": 53,
   "metadata": {},
   "outputs": [
    {
     "name": "stdout",
     "output_type": "stream",
     "text": [
      "0.0472483669082997\n",
      "0.18801907035289164\n",
      "0.25129560964012626\n"
     ]
    }
   ],
   "source": [
    "print(get_annual_return(s_pnl))\n",
    "print(get_max_drawdown(s_pnl))\n",
    "print(get_mar(s_pnl))"
   ]
  },
  {
   "cell_type": "code",
   "execution_count": 54,
   "metadata": {},
   "outputs": [],
   "source": [
    "s_pnl = equal_weight_strategy(total.iloc[:, 0:2])"
   ]
  },
  {
   "cell_type": "code",
   "execution_count": 55,
   "metadata": {},
   "outputs": [
    {
     "data": {
      "text/plain": [
       "[<matplotlib.lines.Line2D at 0x17c15ecf550>]"
      ]
     },
     "execution_count": 55,
     "metadata": {},
     "output_type": "execute_result"
    },
    {
     "data": {
      "image/png": "[encoded data removed]",
      "text/plain": [
       "<Figure size 432x288 with 1 Axes>"
      ]
     },
     "metadata": {
      "needs_background": "light"
     },
     "output_type": "display_data"
    }
   ],
   "source": [
    "plt.plot(s_pnl)"
   ]
  },
  {
   "cell_type": "code",
   "execution_count": 56,
   "metadata": {},
   "outputs": [
    {
     "name": "stdout",
     "output_type": "stream",
     "text": [
      "0.0436717791297363\n",
      "0.18842056516004027\n",
      "0.23177819837575825\n"
     ]
    }
   ],
   "source": [
    "print(get_annual_return(s_pnl))\n",
    "print(get_max_drawdown(s_pnl))\n",
    "print(get_mar(s_pnl))"
   ]
  },
  {
   "cell_type": "code",
   "execution_count": 57,
   "metadata": {},
   "outputs": [
    {
     "data": {
      "text/plain": [
       "array([0.5, 0.5])"
      ]
     },
     "execution_count": 57,
     "metadata": {},
     "output_type": "execute_result"
    }
   ],
   "source": [
    "calc_equal_risk_contributions_weights(np.array([[1, 0.5], [0.5, 1]]))"
   ]
  },
  {
   "cell_type": "code",
   "execution_count": 230,
   "metadata": {},
   "outputs": [],
   "source": [
    "def is_balance_day(today, yesterday):\n",
    "    today = get_datetime_from_str(today).month\n",
    "    yesterday = get_datetime_from_str(yesterday).month\n",
    "    if today != yesterday:\n",
    "        return True\n",
    "    \n",
    "    return False\n",
    "\n",
    "def risk_parity_strategy(data:pd.DataFrame, target_year_vol = 0.08):\n",
    "    row, col = data.shape\n",
    "    data1 = data.copy()\n",
    "    data1['cash'] = 1\n",
    "    \n",
    "    s_pnl = np.array([])\n",
    "    s_weight = np.array([1.0/col] * col)\n",
    "    s_weight = np.append(s_weight, 0)\n",
    "    \n",
    "    for i in np.arange(row):\n",
    "        if i == 0:\n",
    "            s_pnl = np.append(s_pnl, 1)\n",
    "            continue\n",
    "        else:\n",
    "            y_md = data1.values[i-1, ]\n",
    "            t_md = data1.values[i, ]\n",
    "            \n",
    "            simple_return = t_md / y_md\n",
    "            \n",
    "            s_weight = s_weight * simple_return\n",
    "            s_pnl = np.append(s_pnl, s_weight.sum())\n",
    "        \n",
    "        yd = data1.index[i-1]\n",
    "        td = data1.index[i]\n",
    "        if is_balance_day(td, yd):\n",
    "            cur_pnl = s_pnl[-1]\n",
    "            \n",
    "            risk_parity_weight = np.array([1.0/col] * col)\n",
    "            \n",
    "            if i > 80:\n",
    "                count = 1\n",
    "                risk_weight = calc_equal_risk_contributions_weights(data1.iloc[i-30:i, 0:col].pct_change().cov().values)\n",
    "                for period in range(40, 70, 2):\n",
    "                    count = count + 1\n",
    "                    risk_weight = risk_weight + calc_equal_risk_contributions_weights(data1.iloc[i-period:i, 0:col].cov().values)\n",
    "                risk_parity_weight = risk_weight / count\n",
    "            zuhe_weight = 1\n",
    "            if i > 90:\n",
    "                s_std = np.std(s_pnl[i-35:i])\n",
    "                year_vol = s_std * np.sqrt(250)\n",
    "                if np.abs(year_vol) > 1e-6:\n",
    "                    zuhe_weight = target_year_vol / year_vol\n",
    "                if zuhe_weight > 1.0:\n",
    "                    zuhe_weight = 1.0\n",
    "            \n",
    "            old_weight = s_weight.copy()\n",
    "            new_weight = np.array(risk_parity_weight * zuhe_weight * cur_pnl)\n",
    "            new_weight = np.append(new_weight, cur_pnl - (risk_parity_weight * zuhe_weight * cur_pnl).sum())\n",
    "            \n",
    "            commission = np.nansum(np.abs(new_weight - old_weight)) * 1 / 10000.0\n",
    "            cur_pnl = cur_pnl - commission\n",
    "            \n",
    "            # 再次计算仓位\n",
    "            s_weight = np.array(risk_parity_weight * zuhe_weight * cur_pnl)\n",
    "            s_weight = np.append(s_weight, cur_pnl - (risk_parity_weight * zuhe_weight * cur_pnl).sum())\n",
    "            # print(s_weight.round(2))\n",
    "    return s_pnl"
   ]
  },
  {
   "cell_type": "code",
   "execution_count": 227,
   "metadata": {},
   "outputs": [],
   "source": [
    "four_assert = four_assert.fillna(method='ffill')"
   ]
  },
  {
   "cell_type": "code",
   "execution_count": 235,
   "metadata": {},
   "outputs": [],
   "source": [
    "s_pnl = risk_parity_strategy(four_assert.iloc[:, 0:4], 0.1)"
   ]
  },
  {
   "cell_type": "code",
   "execution_count": 236,
   "metadata": {},
   "outputs": [
    {
     "data": {
      "text/plain": [
       "[<matplotlib.lines.Line2D at 0x17c1af7e208>]"
      ]
     },
     "execution_count": 236,
     "metadata": {},
     "output_type": "execute_result"
    },
    {
     "data": {
      "image/png": "[encoded data removed]",
      "text/plain": [
       "<Figure size 432x288 with 1 Axes>"
      ]
     },
     "metadata": {
      "needs_background": "light"
     },
     "output_type": "display_data"
    }
   ],
   "source": [
    "plt.plot(s_pnl)"
   ]
  },
  {
   "cell_type": "code",
   "execution_count": 237,
   "metadata": {},
   "outputs": [
    {
     "name": "stdout",
     "output_type": "stream",
     "text": [
      "0.07876759542051914\n",
      "0.10723402883033656\n",
      "0.7345391782784138\n"
     ]
    }
   ],
   "source": [
    "print(get_annual_return(s_pnl))\n",
    "print(get_max_drawdown(s_pnl))\n",
    "print(get_mar(s_pnl))"
   ]
  },
  {
   "cell_type": "code",
   "execution_count": 62,
   "metadata": {},
   "outputs": [],
   "source": [
    "s_pnl = equal_weight_strategy(total)"
   ]
  },
  {
   "cell_type": "code",
   "execution_count": 63,
   "metadata": {},
   "outputs": [
    {
     "data": {
      "text/plain": [
       "[<matplotlib.lines.Line2D at 0x17c15f96358>]"
      ]
     },
     "execution_count": 63,
     "metadata": {},
     "output_type": "execute_result"
    },
    {
     "data": {
      "image/png": "[encoded data removed]",
      "text/plain": [
       "<Figure size 432x288 with 1 Axes>"
      ]
     },
     "metadata": {
      "needs_background": "light"
     },
     "output_type": "display_data"
    }
   ],
   "source": [
    "plt.plot(s_pnl)"
   ]
  },
  {
   "cell_type": "code",
   "execution_count": 64,
   "metadata": {},
   "outputs": [
    {
     "name": "stdout",
     "output_type": "stream",
     "text": [
      "0.0472483669082997\n",
      "0.18801907035289164\n",
      "0.25129560964012626\n"
     ]
    }
   ],
   "source": [
    "print(get_annual_return(s_pnl))\n",
    "print(get_max_drawdown(s_pnl))\n",
    "print(get_mar(s_pnl))"
   ]
  },
  {
   "cell_type": "code",
   "execution_count": 188,
   "metadata": {},
   "outputs": [],
   "source": [
    "s_pnl = risk_parity_strategy(four_assert.iloc[:, 0:5], 0.1)"
   ]
  },
  {
   "cell_type": "code",
   "execution_count": 189,
   "metadata": {},
   "outputs": [
    {
     "data": {
      "text/plain": [
       "[<matplotlib.lines.Line2D at 0x17c1996a320>]"
      ]
     },
     "execution_count": 189,
     "metadata": {},
     "output_type": "execute_result"
    },
    {
     "data": {
      "image/png": "[encoded data removed]",
      "text/plain": [
       "<Figure size 432x288 with 1 Axes>"
      ]
     },
     "metadata": {
      "needs_background": "light"
     },
     "output_type": "display_data"
    }
   ],
   "source": [
    "plt.plot(s_pnl)"
   ]
  },
  {
   "cell_type": "code",
   "execution_count": 191,
   "metadata": {},
   "outputs": [
    {
     "name": "stdout",
     "output_type": "stream",
     "text": [
      "0.07514146798981813\n",
      "0.13507731875975765\n",
      "0.5562848646963545\n"
     ]
    }
   ],
   "source": [
    "print(get_annual_return(s_pnl))\n",
    "print(get_max_drawdown(s_pnl))\n",
    "print(get_mar(s_pnl))"
   ]
  },
  {
   "cell_type": "code",
   "execution_count": 135,
   "metadata": {},
   "outputs": [],
   "source": [
    "s_pnl = risk_parity_strategy(four_assert, 0.1)"
   ]
  },
  {
   "cell_type": "code",
   "execution_count": 136,
   "metadata": {},
   "outputs": [
    {
     "data": {
      "text/plain": [
       "[<matplotlib.lines.Line2D at 0x17c188025c0>]"
      ]
     },
     "execution_count": 136,
     "metadata": {},
     "output_type": "execute_result"
    },
    {
     "data": {
      "image/png": "[encoded data removed]",
      "text/plain": [
       "<Figure size 432x288 with 1 Axes>"
      ]
     },
     "metadata": {
      "needs_background": "light"
     },
     "output_type": "display_data"
    }
   ],
   "source": [
    "plt.plot(s_pnl)"
   ]
  },
  {
   "cell_type": "code",
   "execution_count": 137,
   "metadata": {},
   "outputs": [
    {
     "name": "stdout",
     "output_type": "stream",
     "text": [
      "0.07744294771377547\n",
      "0.11903791179263316\n",
      "0.6505738091968792\n"
     ]
    }
   ],
   "source": [
    "print(get_annual_return(s_pnl))\n",
    "print(get_max_drawdown(s_pnl))\n",
    "print(get_mar(s_pnl))"
   ]
  },
  {
   "cell_type": "code",
   "execution_count": 139,
   "metadata": {},
   "outputs": [],
   "source": [
    "qqq = pd.read_csv('../data/纳斯达克综合指数历史数据.csv')"
   ]
  },
  {
   "cell_type": "code",
   "execution_count": 140,
   "metadata": {},
   "outputs": [
    {
     "data": {
      "text/html": [
       "<div>\n",
       "<style scoped>\n",
       "    .dataframe tbody tr th:only-of-type {\n",
       "        vertical-align: middle;\n",
       "    }\n",
       "\n",
       "    .dataframe tbody tr th {\n",
       "        vertical-align: top;\n",
       "    }\n",
       "\n",
       "    .dataframe thead th {\n",
       "        text-align: right;\n",
       "    }\n",
       "</style>\n",
       "<table border=\"1\" class=\"dataframe\">\n",
       "  <thead>\n",
       "    <tr style=\"text-align: right;\">\n",
       "      <th></th>\n",
       "      <th>日期</th>\n",
       "      <th>收盘</th>\n",
       "      <th>开盘</th>\n",
       "      <th>高</th>\n",
       "      <th>低</th>\n",
       "      <th>交易量</th>\n",
       "      <th>涨跌幅</th>\n",
       "    </tr>\n",
       "  </thead>\n",
       "  <tbody>\n",
       "    <tr>\n",
       "      <th>0</th>\n",
       "      <td>2021年1月20日</td>\n",
       "      <td>13,423.44</td>\n",
       "      <td>13,343.09</td>\n",
       "      <td>13,425.42</td>\n",
       "      <td>13,330.48</td>\n",
       "      <td>357.32M</td>\n",
       "      <td>1.71%</td>\n",
       "    </tr>\n",
       "    <tr>\n",
       "      <th>1</th>\n",
       "      <td>2021年1月19日</td>\n",
       "      <td>13,197.18</td>\n",
       "      <td>13,132.73</td>\n",
       "      <td>13,206.86</td>\n",
       "      <td>13,078.70</td>\n",
       "      <td>1.22B</td>\n",
       "      <td>1.53%</td>\n",
       "    </tr>\n",
       "    <tr>\n",
       "      <th>2</th>\n",
       "      <td>2021年1月15日</td>\n",
       "      <td>12,998.50</td>\n",
       "      <td>13,099.89</td>\n",
       "      <td>13,139.83</td>\n",
       "      <td>12,949.76</td>\n",
       "      <td>1.26B</td>\n",
       "      <td>-0.87%</td>\n",
       "    </tr>\n",
       "    <tr>\n",
       "      <th>3</th>\n",
       "      <td>2021年1月14日</td>\n",
       "      <td>13,112.64</td>\n",
       "      <td>13,174.75</td>\n",
       "      <td>13,220.16</td>\n",
       "      <td>13,098.41</td>\n",
       "      <td>1.21B</td>\n",
       "      <td>-0.12%</td>\n",
       "    </tr>\n",
       "    <tr>\n",
       "      <th>4</th>\n",
       "      <td>2021年1月13日</td>\n",
       "      <td>13,128.95</td>\n",
       "      <td>13,088.01</td>\n",
       "      <td>13,171.15</td>\n",
       "      <td>13,051.07</td>\n",
       "      <td>1.27B</td>\n",
       "      <td>0.43%</td>\n",
       "    </tr>\n",
       "  </tbody>\n",
       "</table>\n",
       "</div>"
      ],
      "text/plain": [
       "           日期         收盘         开盘          高          低      交易量     涨跌幅\n",
       "0  2021年1月20日  13,423.44  13,343.09  13,425.42  13,330.48  357.32M   1.71%\n",
       "1  2021年1月19日  13,197.18  13,132.73  13,206.86  13,078.70    1.22B   1.53%\n",
       "2  2021年1月15日  12,998.50  13,099.89  13,139.83  12,949.76    1.26B  -0.87%\n",
       "3  2021年1月14日  13,112.64  13,174.75  13,220.16  13,098.41    1.21B  -0.12%\n",
       "4  2021年1月13日  13,128.95  13,088.01  13,171.15  13,051.07    1.27B   0.43%"
      ]
     },
     "execution_count": 140,
     "metadata": {},
     "output_type": "execute_result"
    }
   ],
   "source": [
    "qqq.head()"
   ]
  },
  {
   "cell_type": "code",
   "execution_count": 142,
   "metadata": {},
   "outputs": [],
   "source": [
    "qqq['date'] = qqq.日期.apply(to_time_str)"
   ]
  },
  {
   "cell_type": "code",
   "execution_count": 143,
   "metadata": {},
   "outputs": [],
   "source": [
    "qqq['close'] = qqq.收盘.apply(to_number)"
   ]
  },
  {
   "cell_type": "code",
   "execution_count": 144,
   "metadata": {},
   "outputs": [],
   "source": [
    "qqq = qqq.set_index('date')"
   ]
  },
  {
   "cell_type": "code",
   "execution_count": 145,
   "metadata": {},
   "outputs": [
    {
     "data": {
      "text/html": [
       "<div>\n",
       "<style scoped>\n",
       "    .dataframe tbody tr th:only-of-type {\n",
       "        vertical-align: middle;\n",
       "    }\n",
       "\n",
       "    .dataframe tbody tr th {\n",
       "        vertical-align: top;\n",
       "    }\n",
       "\n",
       "    .dataframe thead th {\n",
       "        text-align: right;\n",
       "    }\n",
       "</style>\n",
       "<table border=\"1\" class=\"dataframe\">\n",
       "  <thead>\n",
       "    <tr style=\"text-align: right;\">\n",
       "      <th></th>\n",
       "      <th>日期</th>\n",
       "      <th>收盘</th>\n",
       "      <th>开盘</th>\n",
       "      <th>高</th>\n",
       "      <th>低</th>\n",
       "      <th>交易量</th>\n",
       "      <th>涨跌幅</th>\n",
       "      <th>close</th>\n",
       "    </tr>\n",
       "    <tr>\n",
       "      <th>date</th>\n",
       "      <th></th>\n",
       "      <th></th>\n",
       "      <th></th>\n",
       "      <th></th>\n",
       "      <th></th>\n",
       "      <th></th>\n",
       "      <th></th>\n",
       "      <th></th>\n",
       "    </tr>\n",
       "  </thead>\n",
       "  <tbody>\n",
       "    <tr>\n",
       "      <th>2021-01-20</th>\n",
       "      <td>2021年1月20日</td>\n",
       "      <td>13,423.44</td>\n",
       "      <td>13,343.09</td>\n",
       "      <td>13,425.42</td>\n",
       "      <td>13,330.48</td>\n",
       "      <td>357.32M</td>\n",
       "      <td>1.71%</td>\n",
       "      <td>13423.44</td>\n",
       "    </tr>\n",
       "    <tr>\n",
       "      <th>2021-01-19</th>\n",
       "      <td>2021年1月19日</td>\n",
       "      <td>13,197.18</td>\n",
       "      <td>13,132.73</td>\n",
       "      <td>13,206.86</td>\n",
       "      <td>13,078.70</td>\n",
       "      <td>1.22B</td>\n",
       "      <td>1.53%</td>\n",
       "      <td>13197.18</td>\n",
       "    </tr>\n",
       "    <tr>\n",
       "      <th>2021-01-15</th>\n",
       "      <td>2021年1月15日</td>\n",
       "      <td>12,998.50</td>\n",
       "      <td>13,099.89</td>\n",
       "      <td>13,139.83</td>\n",
       "      <td>12,949.76</td>\n",
       "      <td>1.26B</td>\n",
       "      <td>-0.87%</td>\n",
       "      <td>12998.50</td>\n",
       "    </tr>\n",
       "    <tr>\n",
       "      <th>2021-01-14</th>\n",
       "      <td>2021年1月14日</td>\n",
       "      <td>13,112.64</td>\n",
       "      <td>13,174.75</td>\n",
       "      <td>13,220.16</td>\n",
       "      <td>13,098.41</td>\n",
       "      <td>1.21B</td>\n",
       "      <td>-0.12%</td>\n",
       "      <td>13112.64</td>\n",
       "    </tr>\n",
       "    <tr>\n",
       "      <th>2021-01-13</th>\n",
       "      <td>2021年1月13日</td>\n",
       "      <td>13,128.95</td>\n",
       "      <td>13,088.01</td>\n",
       "      <td>13,171.15</td>\n",
       "      <td>13,051.07</td>\n",
       "      <td>1.27B</td>\n",
       "      <td>0.43%</td>\n",
       "      <td>13128.95</td>\n",
       "    </tr>\n",
       "  </tbody>\n",
       "</table>\n",
       "</div>"
      ],
      "text/plain": [
       "                    日期         收盘         开盘          高          低      交易量  \\\n",
       "date                                                                          \n",
       "2021-01-20  2021年1月20日  13,423.44  13,343.09  13,425.42  13,330.48  357.32M   \n",
       "2021-01-19  2021年1月19日  13,197.18  13,132.73  13,206.86  13,078.70    1.22B   \n",
       "2021-01-15  2021年1月15日  12,998.50  13,099.89  13,139.83  12,949.76    1.26B   \n",
       "2021-01-14  2021年1月14日  13,112.64  13,174.75  13,220.16  13,098.41    1.21B   \n",
       "2021-01-13  2021年1月13日  13,128.95  13,088.01  13,171.15  13,051.07    1.27B   \n",
       "\n",
       "               涨跌幅     close  \n",
       "date                          \n",
       "2021-01-20   1.71%  13423.44  \n",
       "2021-01-19   1.53%  13197.18  \n",
       "2021-01-15  -0.87%  12998.50  \n",
       "2021-01-14  -0.12%  13112.64  \n",
       "2021-01-13   0.43%  13128.95  "
      ]
     },
     "execution_count": 145,
     "metadata": {},
     "output_type": "execute_result"
    }
   ],
   "source": [
    "qqq.head()"
   ]
  },
  {
   "cell_type": "code",
   "execution_count": 146,
   "metadata": {},
   "outputs": [
    {
     "data": {
      "text/html": [
       "<div>\n",
       "<style scoped>\n",
       "    .dataframe tbody tr th:only-of-type {\n",
       "        vertical-align: middle;\n",
       "    }\n",
       "\n",
       "    .dataframe tbody tr th {\n",
       "        vertical-align: top;\n",
       "    }\n",
       "\n",
       "    .dataframe thead th {\n",
       "        text-align: right;\n",
       "    }\n",
       "</style>\n",
       "<table border=\"1\" class=\"dataframe\">\n",
       "  <thead>\n",
       "    <tr style=\"text-align: right;\">\n",
       "      <th></th>\n",
       "      <th>国债</th>\n",
       "      <th>沪深300</th>\n",
       "      <th>标普500</th>\n",
       "      <th>黄金</th>\n",
       "    </tr>\n",
       "  </thead>\n",
       "  <tbody>\n",
       "    <tr>\n",
       "      <th>2006-01-04</th>\n",
       "      <td>109.187</td>\n",
       "      <td>941.428</td>\n",
       "      <td>1273.46</td>\n",
       "      <td>533.9</td>\n",
       "    </tr>\n",
       "    <tr>\n",
       "      <th>2006-01-05</th>\n",
       "      <td>109.339</td>\n",
       "      <td>959.134</td>\n",
       "      <td>1273.48</td>\n",
       "      <td>526.3</td>\n",
       "    </tr>\n",
       "    <tr>\n",
       "      <th>2006-01-06</th>\n",
       "      <td>109.553</td>\n",
       "      <td>970.032</td>\n",
       "      <td>1285.45</td>\n",
       "      <td>539.7</td>\n",
       "    </tr>\n",
       "    <tr>\n",
       "      <th>2006-01-09</th>\n",
       "      <td>109.628</td>\n",
       "      <td>975.253</td>\n",
       "      <td>1290.15</td>\n",
       "      <td>549.1</td>\n",
       "    </tr>\n",
       "    <tr>\n",
       "      <th>2006-01-10</th>\n",
       "      <td>109.729</td>\n",
       "      <td>978.154</td>\n",
       "      <td>1289.69</td>\n",
       "      <td>544.3</td>\n",
       "    </tr>\n",
       "  </tbody>\n",
       "</table>\n",
       "</div>"
      ],
      "text/plain": [
       "                 国债    沪深300    标普500     黄金\n",
       "2006-01-04  109.187  941.428  1273.46  533.9\n",
       "2006-01-05  109.339  959.134  1273.48  526.3\n",
       "2006-01-06  109.553  970.032  1285.45  539.7\n",
       "2006-01-09  109.628  975.253  1290.15  549.1\n",
       "2006-01-10  109.729  978.154  1289.69  544.3"
      ]
     },
     "execution_count": 146,
     "metadata": {},
     "output_type": "execute_result"
    }
   ],
   "source": [
    "four_assert.head()"
   ]
  },
  {
   "cell_type": "code",
   "execution_count": 147,
   "metadata": {},
   "outputs": [],
   "source": [
    "four_assert['纳斯达克'] = qqq.close"
   ]
  },
  {
   "cell_type": "code",
   "execution_count": 148,
   "metadata": {},
   "outputs": [
    {
     "data": {
      "text/html": [
       "<div>\n",
       "<style scoped>\n",
       "    .dataframe tbody tr th:only-of-type {\n",
       "        vertical-align: middle;\n",
       "    }\n",
       "\n",
       "    .dataframe tbody tr th {\n",
       "        vertical-align: top;\n",
       "    }\n",
       "\n",
       "    .dataframe thead th {\n",
       "        text-align: right;\n",
       "    }\n",
       "</style>\n",
       "<table border=\"1\" class=\"dataframe\">\n",
       "  <thead>\n",
       "    <tr style=\"text-align: right;\">\n",
       "      <th></th>\n",
       "      <th>国债</th>\n",
       "      <th>沪深300</th>\n",
       "      <th>标普500</th>\n",
       "      <th>黄金</th>\n",
       "      <th>纳斯达克</th>\n",
       "    </tr>\n",
       "  </thead>\n",
       "  <tbody>\n",
       "    <tr>\n",
       "      <th>2006-01-04</th>\n",
       "      <td>109.187</td>\n",
       "      <td>941.428</td>\n",
       "      <td>1273.46</td>\n",
       "      <td>533.9</td>\n",
       "      <td>2263.46</td>\n",
       "    </tr>\n",
       "    <tr>\n",
       "      <th>2006-01-05</th>\n",
       "      <td>109.339</td>\n",
       "      <td>959.134</td>\n",
       "      <td>1273.48</td>\n",
       "      <td>526.3</td>\n",
       "      <td>2276.87</td>\n",
       "    </tr>\n",
       "    <tr>\n",
       "      <th>2006-01-06</th>\n",
       "      <td>109.553</td>\n",
       "      <td>970.032</td>\n",
       "      <td>1285.45</td>\n",
       "      <td>539.7</td>\n",
       "      <td>2305.62</td>\n",
       "    </tr>\n",
       "    <tr>\n",
       "      <th>2006-01-09</th>\n",
       "      <td>109.628</td>\n",
       "      <td>975.253</td>\n",
       "      <td>1290.15</td>\n",
       "      <td>549.1</td>\n",
       "      <td>2318.69</td>\n",
       "    </tr>\n",
       "    <tr>\n",
       "      <th>2006-01-10</th>\n",
       "      <td>109.729</td>\n",
       "      <td>978.154</td>\n",
       "      <td>1289.69</td>\n",
       "      <td>544.3</td>\n",
       "      <td>2320.32</td>\n",
       "    </tr>\n",
       "  </tbody>\n",
       "</table>\n",
       "</div>"
      ],
      "text/plain": [
       "                 国债    沪深300    标普500     黄金     纳斯达克\n",
       "2006-01-04  109.187  941.428  1273.46  533.9  2263.46\n",
       "2006-01-05  109.339  959.134  1273.48  526.3  2276.87\n",
       "2006-01-06  109.553  970.032  1285.45  539.7  2305.62\n",
       "2006-01-09  109.628  975.253  1290.15  549.1  2318.69\n",
       "2006-01-10  109.729  978.154  1289.69  544.3  2320.32"
      ]
     },
     "execution_count": 148,
     "metadata": {},
     "output_type": "execute_result"
    }
   ],
   "source": [
    "four_assert.head()"
   ]
  },
  {
   "cell_type": "code",
   "execution_count": 149,
   "metadata": {},
   "outputs": [
    {
     "data": {
      "text/plain": [
       "array([<matplotlib.axes._subplots.AxesSubplot object at 0x0000017C18863828>,\n",
       "       <matplotlib.axes._subplots.AxesSubplot object at 0x0000017C18928F60>,\n",
       "       <matplotlib.axes._subplots.AxesSubplot object at 0x0000017C18959518>,\n",
       "       <matplotlib.axes._subplots.AxesSubplot object at 0x0000017C18B12A90>,\n",
       "       <matplotlib.axes._subplots.AxesSubplot object at 0x0000017C18B41048>],\n",
       "      dtype=object)"
      ]
     },
     "execution_count": 149,
     "metadata": {},
     "output_type": "execute_result"
    },
    {
     "data": {
      "image/png": "[encoded data removed]",
      "text/plain": [
       "<Figure size 432x288 with 5 Axes>"
      ]
     },
     "metadata": {
      "needs_background": "light"
     },
     "output_type": "display_data"
    }
   ],
   "source": [
    "four_assert.plot(subplots=True)"
   ]
  },
  {
   "cell_type": "code",
   "execution_count": 150,
   "metadata": {},
   "outputs": [],
   "source": [
    "s_pnl = risk_parity_strategy(four_assert, 0.10)"
   ]
  },
  {
   "cell_type": "code",
   "execution_count": 151,
   "metadata": {},
   "outputs": [
    {
     "data": {
      "text/plain": [
       "[<matplotlib.lines.Line2D at 0x17c18ce3160>]"
      ]
     },
     "execution_count": 151,
     "metadata": {},
     "output_type": "execute_result"
    },
    {
     "data": {
      "image/png": "[encoded data removed]",
      "text/plain": [
       "<Figure size 432x288 with 1 Axes>"
      ]
     },
     "metadata": {
      "needs_background": "light"
     },
     "output_type": "display_data"
    }
   ],
   "source": [
    "plt.plot(s_pnl)"
   ]
  },
  {
   "cell_type": "code",
   "execution_count": 152,
   "metadata": {},
   "outputs": [
    {
     "name": "stdout",
     "output_type": "stream",
     "text": [
      "0.0750881185628074\n",
      "0.1306735170926887\n",
      "0.5746238429439857\n"
     ]
    }
   ],
   "source": [
    "print(get_annual_return(s_pnl))\n",
    "print(get_max_drawdown(s_pnl))\n",
    "print(get_mar(s_pnl))"
   ]
  },
  {
   "cell_type": "code",
   "execution_count": 153,
   "metadata": {},
   "outputs": [],
   "source": [
    "hensheng = pd.read_csv(r'../data/香港恒生指数历史数据.csv')"
   ]
  },
  {
   "cell_type": "code",
   "execution_count": 154,
   "metadata": {},
   "outputs": [],
   "source": [
    "hensheng['date'] = hensheng.日期.apply(to_time_str)"
   ]
  },
  {
   "cell_type": "code",
   "execution_count": 155,
   "metadata": {},
   "outputs": [],
   "source": [
    "hensheng['close'] = hensheng.收盘.apply(to_number)"
   ]
  },
  {
   "cell_type": "code",
   "execution_count": 158,
   "metadata": {},
   "outputs": [],
   "source": [
    "hensheng = hensheng.set_index('date')"
   ]
  },
  {
   "cell_type": "code",
   "execution_count": 159,
   "metadata": {},
   "outputs": [],
   "source": [
    "four_assert['hensheng'] = hensheng.close"
   ]
  },
  {
   "cell_type": "code",
   "execution_count": 160,
   "metadata": {},
   "outputs": [
    {
     "data": {
      "text/html": [
       "<div>\n",
       "<style scoped>\n",
       "    .dataframe tbody tr th:only-of-type {\n",
       "        vertical-align: middle;\n",
       "    }\n",
       "\n",
       "    .dataframe tbody tr th {\n",
       "        vertical-align: top;\n",
       "    }\n",
       "\n",
       "    .dataframe thead th {\n",
       "        text-align: right;\n",
       "    }\n",
       "</style>\n",
       "<table border=\"1\" class=\"dataframe\">\n",
       "  <thead>\n",
       "    <tr style=\"text-align: right;\">\n",
       "      <th></th>\n",
       "      <th>国债</th>\n",
       "      <th>沪深300</th>\n",
       "      <th>标普500</th>\n",
       "      <th>黄金</th>\n",
       "      <th>纳斯达克</th>\n",
       "      <th>hensheng</th>\n",
       "    </tr>\n",
       "  </thead>\n",
       "  <tbody>\n",
       "    <tr>\n",
       "      <th>2006-01-04</th>\n",
       "      <td>109.187</td>\n",
       "      <td>941.428</td>\n",
       "      <td>1273.46</td>\n",
       "      <td>533.9</td>\n",
       "      <td>2263.46</td>\n",
       "      <td>15200.06</td>\n",
       "    </tr>\n",
       "    <tr>\n",
       "      <th>2006-01-05</th>\n",
       "      <td>109.339</td>\n",
       "      <td>959.134</td>\n",
       "      <td>1273.48</td>\n",
       "      <td>526.3</td>\n",
       "      <td>2276.87</td>\n",
       "      <td>15271.13</td>\n",
       "    </tr>\n",
       "    <tr>\n",
       "      <th>2006-01-06</th>\n",
       "      <td>109.553</td>\n",
       "      <td>970.032</td>\n",
       "      <td>1285.45</td>\n",
       "      <td>539.7</td>\n",
       "      <td>2305.62</td>\n",
       "      <td>15344.44</td>\n",
       "    </tr>\n",
       "    <tr>\n",
       "      <th>2006-01-09</th>\n",
       "      <td>109.628</td>\n",
       "      <td>975.253</td>\n",
       "      <td>1290.15</td>\n",
       "      <td>549.1</td>\n",
       "      <td>2318.69</td>\n",
       "      <td>15547.43</td>\n",
       "    </tr>\n",
       "    <tr>\n",
       "      <th>2006-01-10</th>\n",
       "      <td>109.729</td>\n",
       "      <td>978.154</td>\n",
       "      <td>1289.69</td>\n",
       "      <td>544.3</td>\n",
       "      <td>2320.32</td>\n",
       "      <td>15569.91</td>\n",
       "    </tr>\n",
       "  </tbody>\n",
       "</table>\n",
       "</div>"
      ],
      "text/plain": [
       "                 国债    沪深300    标普500     黄金     纳斯达克  hensheng\n",
       "2006-01-04  109.187  941.428  1273.46  533.9  2263.46  15200.06\n",
       "2006-01-05  109.339  959.134  1273.48  526.3  2276.87  15271.13\n",
       "2006-01-06  109.553  970.032  1285.45  539.7  2305.62  15344.44\n",
       "2006-01-09  109.628  975.253  1290.15  549.1  2318.69  15547.43\n",
       "2006-01-10  109.729  978.154  1289.69  544.3  2320.32  15569.91"
      ]
     },
     "execution_count": 160,
     "metadata": {},
     "output_type": "execute_result"
    }
   ],
   "source": [
    "four_assert.head()"
   ]
  },
  {
   "cell_type": "code",
   "execution_count": 172,
   "metadata": {},
   "outputs": [],
   "source": [
    "s_pnl = risk_parity_strategy(four_assert.iloc[:, 0:3], 0.10)"
   ]
  },
  {
   "cell_type": "code",
   "execution_count": 173,
   "metadata": {},
   "outputs": [
    {
     "data": {
      "text/plain": [
       "[<matplotlib.lines.Line2D at 0x17c19525550>]"
      ]
     },
     "execution_count": 173,
     "metadata": {},
     "output_type": "execute_result"
    },
    {
     "data": {
      "image/png": "[encoded data removed]",
      "text/plain": [
       "<Figure size 432x288 with 1 Axes>"
      ]
     },
     "metadata": {
      "needs_background": "light"
     },
     "output_type": "display_data"
    }
   ],
   "source": [
    "plt.plot(s_pnl)"
   ]
  },
  {
   "cell_type": "code",
   "execution_count": 164,
   "metadata": {},
   "outputs": [
    {
     "data": {
      "text/plain": [
       "array([<matplotlib.axes._subplots.AxesSubplot object at 0x0000017C191C5EB8>,\n",
       "       <matplotlib.axes._subplots.AxesSubplot object at 0x0000017C19218B70>,\n",
       "       <matplotlib.axes._subplots.AxesSubplot object at 0x0000017C19249128>,\n",
       "       <matplotlib.axes._subplots.AxesSubplot object at 0x0000017C192716A0>,\n",
       "       <matplotlib.axes._subplots.AxesSubplot object at 0x0000017C19298C18>,\n",
       "       <matplotlib.axes._subplots.AxesSubplot object at 0x0000017C19298C50>],\n",
       "      dtype=object)"
      ]
     },
     "execution_count": 164,
     "metadata": {},
     "output_type": "execute_result"
    },
    {
     "data": {
      "image/png": "[encoded data removed]",
      "text/plain": [
       "<Figure size 1080x648 with 6 Axes>"
      ]
     },
     "metadata": {
      "needs_background": "light"
     },
     "output_type": "display_data"
    }
   ],
   "source": [
    "four_assert.plot(subplots=True, figsize=(15, 9))"
   ]
  },
  {
   "cell_type": "code",
   "execution_count": 170,
   "metadata": {},
   "outputs": [
    {
     "data": {
      "text/html": [
       "<div>\n",
       "<style scoped>\n",
       "    .dataframe tbody tr th:only-of-type {\n",
       "        vertical-align: middle;\n",
       "    }\n",
       "\n",
       "    .dataframe tbody tr th {\n",
       "        vertical-align: top;\n",
       "    }\n",
       "\n",
       "    .dataframe thead th {\n",
       "        text-align: right;\n",
       "    }\n",
       "</style>\n",
       "<table border=\"1\" class=\"dataframe\">\n",
       "  <thead>\n",
       "    <tr style=\"text-align: right;\">\n",
       "      <th></th>\n",
       "      <th>国债</th>\n",
       "      <th>沪深300</th>\n",
       "      <th>标普500</th>\n",
       "      <th>黄金</th>\n",
       "      <th>纳斯达克</th>\n",
       "      <th>hensheng</th>\n",
       "    </tr>\n",
       "  </thead>\n",
       "  <tbody>\n",
       "    <tr>\n",
       "      <th>国债</th>\n",
       "      <td>3.963796e-07</td>\n",
       "      <td>-5.471526e-07</td>\n",
       "      <td>-5.000954e-07</td>\n",
       "      <td>1.045967e-07</td>\n",
       "      <td>-3.848949e-07</td>\n",
       "      <td>-5.672912e-07</td>\n",
       "    </tr>\n",
       "    <tr>\n",
       "      <th>沪深300</th>\n",
       "      <td>-5.471526e-07</td>\n",
       "      <td>3.178653e-04</td>\n",
       "      <td>2.960775e-05</td>\n",
       "      <td>1.003990e-05</td>\n",
       "      <td>3.312945e-05</td>\n",
       "      <td>1.416553e-04</td>\n",
       "    </tr>\n",
       "    <tr>\n",
       "      <th>标普500</th>\n",
       "      <td>-5.000954e-07</td>\n",
       "      <td>2.960775e-05</td>\n",
       "      <td>1.739428e-04</td>\n",
       "      <td>6.696697e-06</td>\n",
       "      <td>1.788573e-04</td>\n",
       "      <td>5.621660e-05</td>\n",
       "    </tr>\n",
       "    <tr>\n",
       "      <th>黄金</th>\n",
       "      <td>1.045967e-07</td>\n",
       "      <td>1.003990e-05</td>\n",
       "      <td>6.696697e-06</td>\n",
       "      <td>1.485556e-04</td>\n",
       "      <td>5.965999e-06</td>\n",
       "      <td>1.076217e-05</td>\n",
       "    </tr>\n",
       "    <tr>\n",
       "      <th>纳斯达克</th>\n",
       "      <td>-3.848949e-07</td>\n",
       "      <td>3.312945e-05</td>\n",
       "      <td>1.788573e-04</td>\n",
       "      <td>5.965999e-06</td>\n",
       "      <td>2.007555e-04</td>\n",
       "      <td>5.842129e-05</td>\n",
       "    </tr>\n",
       "    <tr>\n",
       "      <th>hensheng</th>\n",
       "      <td>-5.672912e-07</td>\n",
       "      <td>1.416553e-04</td>\n",
       "      <td>5.621660e-05</td>\n",
       "      <td>1.076217e-05</td>\n",
       "      <td>5.842129e-05</td>\n",
       "      <td>2.388106e-04</td>\n",
       "    </tr>\n",
       "  </tbody>\n",
       "</table>\n",
       "</div>"
      ],
      "text/plain": [
       "                    国债         沪深300         标普500            黄金  \\\n",
       "国债        3.963796e-07 -5.471526e-07 -5.000954e-07  1.045967e-07   \n",
       "沪深300    -5.471526e-07  3.178653e-04  2.960775e-05  1.003990e-05   \n",
       "标普500    -5.000954e-07  2.960775e-05  1.739428e-04  6.696697e-06   \n",
       "黄金        1.045967e-07  1.003990e-05  6.696697e-06  1.485556e-04   \n",
       "纳斯达克     -3.848949e-07  3.312945e-05  1.788573e-04  5.965999e-06   \n",
       "hensheng -5.672912e-07  1.416553e-04  5.621660e-05  1.076217e-05   \n",
       "\n",
       "                  纳斯达克      hensheng  \n",
       "国债       -3.848949e-07 -5.672912e-07  \n",
       "沪深300     3.312945e-05  1.416553e-04  \n",
       "标普500     1.788573e-04  5.621660e-05  \n",
       "黄金        5.965999e-06  1.076217e-05  \n",
       "纳斯达克      2.007555e-04  5.842129e-05  \n",
       "hensheng  5.842129e-05  2.388106e-04  "
      ]
     },
     "execution_count": 170,
     "metadata": {},
     "output_type": "execute_result"
    }
   ],
   "source": [
    "four_assert.pct_change().cov()"
   ]
  },
  {
   "cell_type": "code",
   "execution_count": 218,
   "metadata": {},
   "outputs": [
    {
     "name": "stdout",
     "output_type": "stream",
     "text": [
      "<class 'pandas.core.frame.DataFrame'>\n",
      "Index: 3423 entries, 2006-01-04 to 2020-07-27\n",
      "Data columns (total 6 columns):\n",
      " #   Column    Non-Null Count  Dtype  \n",
      "---  ------    --------------  -----  \n",
      " 0   国债        3423 non-null   float64\n",
      " 1   沪深300     3423 non-null   float64\n",
      " 2   标普500     3423 non-null   float64\n",
      " 3   黄金        3423 non-null   float64\n",
      " 4   纳斯达克      3423 non-null   float64\n",
      " 5   hensheng  3364 non-null   float64\n",
      "dtypes: float64(6)\n",
      "memory usage: 187.2+ KB\n"
     ]
    }
   ],
   "source": [
    "four_assert.info()"
   ]
  },
  {
   "cell_type": "code",
   "execution_count": 221,
   "metadata": {},
   "outputs": [
    {
     "name": "stdout",
     "output_type": "stream",
     "text": [
      "<class 'pandas.core.frame.DataFrame'>\n",
      "Index: 3423 entries, 2006-01-04 to 2020-07-27\n",
      "Data columns (total 6 columns):\n",
      " #   Column    Non-Null Count  Dtype  \n",
      "---  ------    --------------  -----  \n",
      " 0   国债        3423 non-null   float64\n",
      " 1   沪深300     3423 non-null   float64\n",
      " 2   标普500     3423 non-null   float64\n",
      " 3   黄金        3423 non-null   float64\n",
      " 4   纳斯达克      3423 non-null   float64\n",
      " 5   hensheng  3423 non-null   float64\n",
      "dtypes: float64(6)\n",
      "memory usage: 187.2+ KB\n"
     ]
    }
   ],
   "source": [
    "four_assert.fillna(method='ffill').info()"
   ]
  },
  {
   "cell_type": "code",
   "execution_count": null,
   "metadata": {},
   "outputs": [],
   "source": [
    "four_assert"
   ]
  }
 ],
 "metadata": {
  "kernelspec": {
   "display_name": "Python 3",
   "language": "python",
   "name": "python3"
  },
  "language_info": {
   "codemirror_mode": {
    "name": "ipython",
    "version": 3
   },
   "file_extension": ".py",
   "mimetype": "text/x-python",
   "name": "python",
   "nbconvert_exporter": "python",
   "pygments_lexer": "ipython3",
   "version": "3.7.0"
  }
 },
 "nbformat": 4,
 "nbformat_minor": 2
}
